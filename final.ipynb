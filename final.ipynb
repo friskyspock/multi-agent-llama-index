{
 "cells": [
  {
   "cell_type": "code",
   "execution_count": 1,
   "metadata": {},
   "outputs": [],
   "source": [
    "from typing import List, Tuple\n",
    "from llama_index.core import Document, VectorStoreIndex, Settings\n",
    "from llama_index.core.agent import ReActAgent\n",
    "from llama_index.core.tools import FunctionTool\n",
    "from llama_index.readers.youtube_transcript import YoutubeTranscriptReader\n",
    "from youtube_transcript_api import YouTubeTranscriptApi\n",
    "from youtube_transcript_api._errors import CouldNotRetrieveTranscript\n",
    "import urllib.request\n",
    "import re, os, yt_dlp\n",
    "import numpy as np\n",
    "import pandas as pd\n",
    "from llama_index.embeddings.ollama import OllamaEmbedding\n",
    "from llama_index.llms.ollama import Ollama\n",
    "from llama_index.core.llms import ChatMessage\n",
    "from llama_index.llms.azure_openai import AzureOpenAI\n",
    "from llama_index.embeddings.azure_openai import AzureOpenAIEmbedding\n",
    "from llama_index.embeddings.huggingface import HuggingFaceEmbedding"
   ]
  },
  {
   "cell_type": "markdown",
   "metadata": {},
   "source": [
    "### loading envs"
   ]
  },
  {
   "cell_type": "code",
   "execution_count": 2,
   "metadata": {},
   "outputs": [
    {
     "data": {
      "text/plain": [
       "True"
      ]
     },
     "execution_count": 2,
     "metadata": {},
     "output_type": "execute_result"
    }
   ],
   "source": [
    "from dotenv import load_dotenv\n",
    "load_dotenv()"
   ]
  },
  {
   "cell_type": "markdown",
   "metadata": {},
   "source": [
    "#### Declaring LLM and Embedding Models\n",
    "Using local models for heavy tasks due to cost constrains"
   ]
  },
  {
   "cell_type": "code",
   "execution_count": 3,
   "metadata": {},
   "outputs": [],
   "source": [
    "local_llm = Ollama(\n",
    "    model=\"llama3.2\", \n",
    "    request_timeout=60.0\n",
    ")\n",
    "\n",
    "local_embed_model = HuggingFaceEmbedding(\n",
    "    model_name=\"sentence-transformers/all-MiniLM-L6-v2\"\n",
    ")\n",
    "\n",
    "llm = AzureOpenAI(\n",
    "    engine = \"gpt-35-turbo\",\n",
    "    model = \"gpt-35-turbo\",\n",
    "    api_key = os.getenv('AZURE_OPENAI_API_KEY'),  \n",
    "    api_version = \"2024-02-01\",\n",
    "    azure_endpoint = os.getenv('AZURE_OPENAI_ENDPOINT')\n",
    ")\n",
    "\n",
    "embed_model = AzureOpenAIEmbedding(\n",
    "    model = \"text-embedding-3-large\",\n",
    "    deployment_name = \"text-embedding-3-large\",\n",
    "    api_key = os.getenv('AZURE_OPENAI_API_KEY'),\n",
    "    api_version = \"2024-02-01\",\n",
    "    azure_endpoint = os.getenv('AZURE_OPENAI_ENDPOINT')\n",
    ")\n",
    "\n",
    "Settings.llm = llm\n",
    "Settings.embed_model = embed_model"
   ]
  },
  {
   "cell_type": "markdown",
   "metadata": {},
   "source": [
    "#### Function for parsing top 10 videos from YouTube"
   ]
  },
  {
   "cell_type": "code",
   "execution_count": 9,
   "metadata": {},
   "outputs": [],
   "source": [
    "def get_youtube_videos(search_keyword: str, results: int = 10) -> list:\n",
    "    html = urllib.request.urlopen(\"https://www.youtube.com/results?search_query=\" + search_keyword.replace(' ','+'))\n",
    "    video_ids = re.findall(r\"watch\\?v=(\\S{11})\", html.read().decode())\n",
    "    unique_ids = []\n",
    "    for id in video_ids:\n",
    "        if len(unique_ids) == results:\n",
    "            break\n",
    "\n",
    "        if id not in unique_ids:\n",
    "            try:\n",
    "                text = YouTubeTranscriptApi.get_transcript(id)\n",
    "                valid_chunks = 0\n",
    "                for obj in text:\n",
    "                    if obj['text'] != '[Music]':\n",
    "                        valid_chunks += 1 \n",
    "                if valid_chunks > 2:\n",
    "                    unique_ids.append(id)\n",
    "            except CouldNotRetrieveTranscript:\n",
    "                pass\n",
    "            \n",
    "    return [\"https://www.youtube.com/watch?v=\"+i for i in unique_ids]\n",
    "\n",
    "get_youtube_videos_tool = FunctionTool.from_defaults(\n",
    "    fn=get_youtube_videos,\n",
    "    description=\"Returns list of 10 youtube video links for given search keyword.\"\n",
    ")"
   ]
  },
  {
   "cell_type": "markdown",
   "metadata": {},
   "source": [
    "#### Function for parsing title of given youtube video"
   ]
  },
  {
   "cell_type": "code",
   "execution_count": 6,
   "metadata": {},
   "outputs": [],
   "source": [
    "def get_youtube_title(youtube_url: str) -> str:\n",
    "    ydl_opts = {}\n",
    "    with yt_dlp.YoutubeDL(ydl_opts) as ydl:\n",
    "        try:\n",
    "            info_dict = ydl.extract_info(youtube_url, download=False)\n",
    "            return info_dict.get('title', 'Title not found')\n",
    "        except Exception as e:\n",
    "            return f\"Error occurred: {str(e)}\""
   ]
  },
  {
   "cell_type": "markdown",
   "metadata": {},
   "source": [
    "#### Saving video list for repeated usage\n",
    "Skip this step if already saved"
   ]
  },
  {
   "cell_type": "code",
   "execution_count": null,
   "metadata": {},
   "outputs": [],
   "source": [
    "video_list = get_youtube_videos('jupiter')\n",
    "\n",
    "df = pd.DataFrame([{'title':get_youtube_title(vid),'link':vid} for vid in video_list])\n",
    "df.to_csv(\"video_list.csv\",index=False)"
   ]
  },
  {
   "cell_type": "markdown",
   "metadata": {},
   "source": [
    "#### Loading video list and getting titles"
   ]
  },
  {
   "cell_type": "code",
   "execution_count": 12,
   "metadata": {},
   "outputs": [
    {
     "data": {
      "text/html": [
       "<div>\n",
       "<style scoped>\n",
       "    .dataframe tbody tr th:only-of-type {\n",
       "        vertical-align: middle;\n",
       "    }\n",
       "\n",
       "    .dataframe tbody tr th {\n",
       "        vertical-align: top;\n",
       "    }\n",
       "\n",
       "    .dataframe thead th {\n",
       "        text-align: right;\n",
       "    }\n",
       "</style>\n",
       "<table border=\"1\" class=\"dataframe\">\n",
       "  <thead>\n",
       "    <tr style=\"text-align: right;\">\n",
       "      <th></th>\n",
       "      <th>title</th>\n",
       "      <th>link</th>\n",
       "    </tr>\n",
       "  </thead>\n",
       "  <tbody>\n",
       "    <tr>\n",
       "      <th>0</th>\n",
       "      <td>Coldplay - JUPiTER (Official Lyric Visualiser)</td>\n",
       "      <td>https://www.youtube.com/watch?v=07Pmjxhuo4k</td>\n",
       "    </tr>\n",
       "    <tr>\n",
       "      <th>1</th>\n",
       "      <td>Thoughts about the new Jupiter 110? #jupiter110</td>\n",
       "      <td>https://www.youtube.com/watch?v=MHj0dksesho</td>\n",
       "    </tr>\n",
       "    <tr>\n",
       "      <th>2</th>\n",
       "      <td>You can see Jupiter! 🪐</td>\n",
       "      <td>https://www.youtube.com/watch?v=FZJ5w3xHrAc</td>\n",
       "    </tr>\n",
       "    <tr>\n",
       "      <th>3</th>\n",
       "      <td>The Largest Planet In The Universe</td>\n",
       "      <td>https://www.youtube.com/watch?v=zmWcR-Mj2QQ</td>\n",
       "    </tr>\n",
       "    <tr>\n",
       "      <th>4</th>\n",
       "      <td>Jupiters Giant Red Spot is Acting Strange!</td>\n",
       "      <td>https://www.youtube.com/watch?v=TDq3-wmihw4</td>\n",
       "    </tr>\n",
       "    <tr>\n",
       "      <th>5</th>\n",
       "      <td>younger life in Jupiter #shorts #funny  #anima...</td>\n",
       "      <td>https://www.youtube.com/watch?v=CFQfKhVweBI</td>\n",
       "    </tr>\n",
       "    <tr>\n",
       "      <th>6</th>\n",
       "      <td>Jupiter VS Saturn #shorts #space</td>\n",
       "      <td>https://www.youtube.com/watch?v=tvGgt-a445g</td>\n",
       "    </tr>\n",
       "    <tr>\n",
       "      <th>7</th>\n",
       "      <td>What is YOUR first impression of the new TVS J...</td>\n",
       "      <td>https://www.youtube.com/watch?v=czrgVVRPzJY</td>\n",
       "    </tr>\n",
       "    <tr>\n",
       "      <th>8</th>\n",
       "      <td>What If You Fell into Jupiter? #Shorts</td>\n",
       "      <td>https://www.youtube.com/watch?v=4lQAD07KRAg</td>\n",
       "    </tr>\n",
       "    <tr>\n",
       "      <th>9</th>\n",
       "      <td>Hello Jupiter #astrophotography #space #telesc...</td>\n",
       "      <td>https://www.youtube.com/watch?v=3vzagdNuOCo</td>\n",
       "    </tr>\n",
       "  </tbody>\n",
       "</table>\n",
       "</div>"
      ],
      "text/plain": [
       "                                               title  \\\n",
       "0     Coldplay - JUPiTER (Official Lyric Visualiser)   \n",
       "1    Thoughts about the new Jupiter 110? #jupiter110   \n",
       "2                             You can see Jupiter! 🪐   \n",
       "3                 The Largest Planet In The Universe   \n",
       "4         Jupiters Giant Red Spot is Acting Strange!   \n",
       "5  younger life in Jupiter #shorts #funny  #anima...   \n",
       "6                   Jupiter VS Saturn #shorts #space   \n",
       "7  What is YOUR first impression of the new TVS J...   \n",
       "8             What If You Fell into Jupiter? #Shorts   \n",
       "9  Hello Jupiter #astrophotography #space #telesc...   \n",
       "\n",
       "                                          link  \n",
       "0  https://www.youtube.com/watch?v=07Pmjxhuo4k  \n",
       "1  https://www.youtube.com/watch?v=MHj0dksesho  \n",
       "2  https://www.youtube.com/watch?v=FZJ5w3xHrAc  \n",
       "3  https://www.youtube.com/watch?v=zmWcR-Mj2QQ  \n",
       "4  https://www.youtube.com/watch?v=TDq3-wmihw4  \n",
       "5  https://www.youtube.com/watch?v=CFQfKhVweBI  \n",
       "6  https://www.youtube.com/watch?v=tvGgt-a445g  \n",
       "7  https://www.youtube.com/watch?v=czrgVVRPzJY  \n",
       "8  https://www.youtube.com/watch?v=4lQAD07KRAg  \n",
       "9  https://www.youtube.com/watch?v=3vzagdNuOCo  "
      ]
     },
     "execution_count": 12,
     "metadata": {},
     "output_type": "execute_result"
    }
   ],
   "source": [
    "df = pd.read_csv(\"video_list.csv\")\n",
    "df"
   ]
  },
  {
   "cell_type": "markdown",
   "metadata": {},
   "source": [
    "#### Manual Observations\n",
    "Noting similarity of all 45 pairs of videos"
   ]
  },
  {
   "cell_type": "code",
   "execution_count": 13,
   "metadata": {},
   "outputs": [],
   "source": [
    "combinations = []\n",
    "for i in range(10):\n",
    "    for j in range(i+1, 10):\n",
    "        combinations.append({'v1_idx':i,'v2_idx':j})\n",
    "comb_df = pd.DataFrame(combinations)\n",
    "comb_df.to_csv('combinations.csv',index=False)"
   ]
  },
  {
   "cell_type": "markdown",
   "metadata": {},
   "source": [
    "I manually insert \"is_similar\" column in csv and reading again"
   ]
  },
  {
   "cell_type": "code",
   "execution_count": 14,
   "metadata": {},
   "outputs": [
    {
     "data": {
      "text/html": [
       "<div>\n",
       "<style scoped>\n",
       "    .dataframe tbody tr th:only-of-type {\n",
       "        vertical-align: middle;\n",
       "    }\n",
       "\n",
       "    .dataframe tbody tr th {\n",
       "        vertical-align: top;\n",
       "    }\n",
       "\n",
       "    .dataframe thead th {\n",
       "        text-align: right;\n",
       "    }\n",
       "</style>\n",
       "<table border=\"1\" class=\"dataframe\">\n",
       "  <thead>\n",
       "    <tr style=\"text-align: right;\">\n",
       "      <th></th>\n",
       "      <th>v1_idx</th>\n",
       "      <th>v2_idx</th>\n",
       "      <th>is_similar</th>\n",
       "    </tr>\n",
       "  </thead>\n",
       "  <tbody>\n",
       "    <tr>\n",
       "      <th>0</th>\n",
       "      <td>0</td>\n",
       "      <td>1</td>\n",
       "      <td>0</td>\n",
       "    </tr>\n",
       "    <tr>\n",
       "      <th>1</th>\n",
       "      <td>0</td>\n",
       "      <td>2</td>\n",
       "      <td>0</td>\n",
       "    </tr>\n",
       "    <tr>\n",
       "      <th>2</th>\n",
       "      <td>0</td>\n",
       "      <td>3</td>\n",
       "      <td>0</td>\n",
       "    </tr>\n",
       "    <tr>\n",
       "      <th>3</th>\n",
       "      <td>0</td>\n",
       "      <td>4</td>\n",
       "      <td>0</td>\n",
       "    </tr>\n",
       "    <tr>\n",
       "      <th>4</th>\n",
       "      <td>0</td>\n",
       "      <td>5</td>\n",
       "      <td>0</td>\n",
       "    </tr>\n",
       "  </tbody>\n",
       "</table>\n",
       "</div>"
      ],
      "text/plain": [
       "   v1_idx  v2_idx  is_similar\n",
       "0       0       1           0\n",
       "1       0       2           0\n",
       "2       0       3           0\n",
       "3       0       4           0\n",
       "4       0       5           0"
      ]
     },
     "execution_count": 14,
     "metadata": {},
     "output_type": "execute_result"
    }
   ],
   "source": [
    "comb_df = pd.read_csv(\"combinations.csv\")\n",
    "comb_df.head()"
   ]
  },
  {
   "cell_type": "code",
   "execution_count": 15,
   "metadata": {},
   "outputs": [
    {
     "data": {
      "text/plain": [
       "is_similar\n",
       "0    23\n",
       "1    22\n",
       "Name: count, dtype: int64"
      ]
     },
     "execution_count": 15,
     "metadata": {},
     "output_type": "execute_result"
    }
   ],
   "source": [
    "comb_df.is_similar.value_counts()"
   ]
  },
  {
   "cell_type": "markdown",
   "metadata": {},
   "source": [
    "# Using plain LLM approach"
   ]
  },
  {
   "cell_type": "markdown",
   "metadata": {},
   "source": [
    "Summary function using LLM"
   ]
  },
  {
   "cell_type": "code",
   "execution_count": 23,
   "metadata": {},
   "outputs": [],
   "source": [
    "def summarize_text(text: str) -> str:\n",
    "    prompt = f\"Summarize the following text in a concise way:\\n\\n{text}\"\n",
    "    \n",
    "    response = llm.chat([\n",
    "        ChatMessage(role=\"user\",content=prompt)\n",
    "    ])\n",
    "    \n",
    "    return response.message.content"
   ]
  },
  {
   "cell_type": "markdown",
   "metadata": {},
   "source": [
    "Getting summary for all links"
   ]
  },
  {
   "cell_type": "code",
   "execution_count": 27,
   "metadata": {},
   "outputs": [],
   "source": [
    "loader = YoutubeTranscriptReader()\n",
    "documents = loader.load_data(ytlinks=df.link.to_list())\n",
    "sum_df = pd.DataFrame([{'doc_id':doc.doc_id,'text':summarize_text(doc.text)} for doc in documents])"
   ]
  },
  {
   "cell_type": "code",
   "execution_count": 28,
   "metadata": {},
   "outputs": [
    {
     "data": {
      "text/html": [
       "<div>\n",
       "<style scoped>\n",
       "    .dataframe tbody tr th:only-of-type {\n",
       "        vertical-align: middle;\n",
       "    }\n",
       "\n",
       "    .dataframe tbody tr th {\n",
       "        vertical-align: top;\n",
       "    }\n",
       "\n",
       "    .dataframe thead th {\n",
       "        text-align: right;\n",
       "    }\n",
       "</style>\n",
       "<table border=\"1\" class=\"dataframe\">\n",
       "  <thead>\n",
       "    <tr style=\"text-align: right;\">\n",
       "      <th></th>\n",
       "      <th>doc_id</th>\n",
       "      <th>text</th>\n",
       "    </tr>\n",
       "  </thead>\n",
       "  <tbody>\n",
       "    <tr>\n",
       "      <th>0</th>\n",
       "      <td>07Pmjxhuo4k</td>\n",
       "      <td>The text is about a person struggling with the...</td>\n",
       "    </tr>\n",
       "    <tr>\n",
       "      <th>1</th>\n",
       "      <td>MHj0dksesho</td>\n",
       "      <td>The new Jitter 110 has a bigger seat and handl...</td>\n",
       "    </tr>\n",
       "    <tr>\n",
       "      <th>2</th>\n",
       "      <td>FZJ5w3xHrAc</td>\n",
       "      <td>Jupiter will be closer to Earth than it has be...</td>\n",
       "    </tr>\n",
       "    <tr>\n",
       "      <th>3</th>\n",
       "      <td>zmWcR-Mj2QQ</td>\n",
       "      <td>Jupiter is the largest planet in our solar sys...</td>\n",
       "    </tr>\n",
       "    <tr>\n",
       "      <th>4</th>\n",
       "      <td>TDq3-wmihw4</td>\n",
       "      <td>Jupiter's giant red spot, a storm that has bee...</td>\n",
       "    </tr>\n",
       "    <tr>\n",
       "      <th>5</th>\n",
       "      <td>CFQfKhVweBI</td>\n",
       "      <td>Living on Jupiter would make us younger becaus...</td>\n",
       "    </tr>\n",
       "    <tr>\n",
       "      <th>6</th>\n",
       "      <td>tvGgt-a445g</td>\n",
       "      <td>The text is about taking a step back in music.</td>\n",
       "    </tr>\n",
       "    <tr>\n",
       "      <th>7</th>\n",
       "      <td>czrgVVRPzJY</td>\n",
       "      <td>The new TVs Jupyter 110 has a new design, LED ...</td>\n",
       "    </tr>\n",
       "    <tr>\n",
       "      <th>8</th>\n",
       "      <td>4lQAD07KRAg</td>\n",
       "      <td>Falling into Jupiter would involve reaching hi...</td>\n",
       "    </tr>\n",
       "    <tr>\n",
       "      <th>9</th>\n",
       "      <td>3vzagdNuOCo</td>\n",
       "      <td>The text describes capturing Jupiter's Great R...</td>\n",
       "    </tr>\n",
       "  </tbody>\n",
       "</table>\n",
       "</div>"
      ],
      "text/plain": [
       "        doc_id                                               text\n",
       "0  07Pmjxhuo4k  The text is about a person struggling with the...\n",
       "1  MHj0dksesho  The new Jitter 110 has a bigger seat and handl...\n",
       "2  FZJ5w3xHrAc  Jupiter will be closer to Earth than it has be...\n",
       "3  zmWcR-Mj2QQ  Jupiter is the largest planet in our solar sys...\n",
       "4  TDq3-wmihw4  Jupiter's giant red spot, a storm that has bee...\n",
       "5  CFQfKhVweBI  Living on Jupiter would make us younger becaus...\n",
       "6  tvGgt-a445g     The text is about taking a step back in music.\n",
       "7  czrgVVRPzJY  The new TVs Jupyter 110 has a new design, LED ...\n",
       "8  4lQAD07KRAg  Falling into Jupiter would involve reaching hi...\n",
       "9  3vzagdNuOCo  The text describes capturing Jupiter's Great R..."
      ]
     },
     "execution_count": 28,
     "metadata": {},
     "output_type": "execute_result"
    }
   ],
   "source": [
    "sum_df"
   ]
  },
  {
   "cell_type": "code",
   "execution_count": 111,
   "metadata": {},
   "outputs": [
    {
     "name": "stdout",
     "output_type": "stream",
     "text": [
      "\n",
      "This are 10 videos from youtube for keyword 'Jupiter' and their summaries:\n",
      "\n",
      "1. 07Pmjxhuo4k: The text is about a person struggling with their identity and self-acceptance, but ultimately finding the message to never give up on love.\n",
      "2. MHj0dksesho: The new Jitter 110 has a bigger seat and handlebar, making it comfortable for taller riders but potentially challenging for shorter riders. The reviewer, who is 5'9, finds it comfortable, while a colleague who is 5'5 finds flat footing difficult but has plenty of room. Overall, the reviewer is super comfortable with plenty of room.\n",
      "3. FZJ5w3xHrAc: Jupiter will be closer to Earth than it has been in 59 years, and the speaker plans to point a dynamic laser at it. It will be slightly brighter than usual.\n",
      "4. zmWcR-Mj2QQ: Jupiter is the largest planet in our solar system, with a size so big that all other planets could fit inside it. The largest exoplanet, hd100546b, is a gas giant with a mass of 752 Jupiters and a radius of 300,000 miles, located about 358 light years from Earth.\n",
      "5. TDq3-wmihw4: Jupiter's giant red spot, a storm that has been going on for nearly 360 years, is starting to become more circular and its wind speeds are speeding up. The cause of the storm and its increased speeds is currently unknown, but it has similar properties to a hurricane on Earth, with a relatively cleared out center the size of Earth.\n",
      "6. CFQfKhVweBI: Living on Jupiter would make us younger because a year on Jupiter is equivalent to 12 Earth years, but the gravity would make us feel much older.\n",
      "7. tvGgt-a445g: The text is about taking a step back in music.\n",
      "8. czrgVVRPzJY: The new TVs Jupyter 110 has a new design, LED daytime running lights, color LCD instrument cluster, Bluetooth connectivity, and a 113cc engine with integrated starter generator for more power and better fuel efficiency. It also has a longer seat and 33L of under-seat storage. A first ride report will be available tomorrow.\n",
      "9. 4lQAD07KRAg: Falling into Jupiter would involve reaching high speeds, extreme temperatures, powerful winds, and intense atmospheric pressure before ultimately getting stuck at the core.\n",
      "10. 3vzagdNuOCo: The text describes capturing Jupiter's Great Red Spot with a large telescope and the result being shown with music.\n",
      "\n",
      "Based on the summary, can you give me pairs of videos which are of similar topic out of all 45 possible pairs?\n",
      "\n"
     ]
    }
   ],
   "source": [
    "prompt = '''\n",
    "This are 10 videos from youtube for keyword 'Jupiter' and their summaries:\n",
    "\n",
    "{summaries}\n",
    "\n",
    "Based on the summary, can you give me pairs of videos which are of similar topic out of all 45 possible pairs?\n",
    "'''\n",
    "\n",
    "full_prompt = prompt.format(summaries='\\n'.join([f\"{i+1}. {row['doc_id']}: {row['text']}\" for i, row in sum_df.iterrows()]))\n",
    "print(full_prompt)"
   ]
  },
  {
   "cell_type": "code",
   "execution_count": 112,
   "metadata": {},
   "outputs": [
    {
     "name": "stdout",
     "output_type": "stream",
     "text": [
      "Sure! Here are some pairs of videos that are of similar topic:\n",
      "\n",
      "1. Videos 2 and 8 both discuss the features and comfort of the Jupyter 110.\n",
      "2. Videos 4 and 9 both discuss scientific facts and phenomena related to Jupiter.\n",
      "3. Videos 5 and 10 both discuss the Great Red Spot on Jupiter and its characteristics.\n",
      "\n",
      "I hope this helps!\n"
     ]
    }
   ],
   "source": [
    "response = llm.chat([\n",
    "    ChatMessage(role=\"user\",content=full_prompt)\n",
    "])\n",
    "print(response.message.content)"
   ]
  },
  {
   "cell_type": "markdown",
   "metadata": {},
   "source": [
    "# Agent approach"
   ]
  },
  {
   "cell_type": "code",
   "execution_count": 48,
   "metadata": {},
   "outputs": [],
   "source": [
    "def youtube_links_to_summary(youtube_links: List[str]) -> bool:\n",
    "    loader = YoutubeTranscriptReader()\n",
    "    documents = loader.load_data(ytlinks=youtube_links)\n",
    "    df = pd.DataFrame([{'doc_id':doc.doc_id,'text':summarize_text(doc.text)} for doc in documents])\n",
    "    df.to_csv(\"top_10_summaries.csv\",index=False, sep=\"|\")\n",
    "    return True\n",
    "\n",
    "summarize_youtube_video_tool = FunctionTool.from_defaults(\n",
    "    fn=youtube_links_to_summary,\n",
    "    description=\"Returns True if summaries are stored in file.\"\n",
    ")"
   ]
  },
  {
   "cell_type": "code",
   "execution_count": 62,
   "metadata": {},
   "outputs": [],
   "source": [
    "def cosine_similarity(vec1, vec2):\n",
    "    vec1 = np.array(vec1)\n",
    "    vec2 = np.array(vec2)\n",
    "    dot_product = np.dot(vec1, vec2)\n",
    "    norm_vec1 = np.linalg.norm(vec1)\n",
    "    norm_vec2 = np.linalg.norm(vec2)\n",
    "    return dot_product / (norm_vec1 * norm_vec2)\n",
    "\n",
    "def get_top_n_similar_videos(top_n: int) -> List[dict]:\n",
    "    df = pd.read_csv(\"top_10_summaries.csv\",sep=\"|\")\n",
    "    documents = []\n",
    "    for t in df.itertuples():\n",
    "        documents.append(\n",
    "            Document(\n",
    "                doc_id=t.doc_id,\n",
    "                text=t.text,\n",
    "                metadata={'video_id':t.doc_id},\n",
    "                embedding=local_embed_model.get_text_embedding(t.text)\n",
    "            )\n",
    "        )\n",
    "\n",
    "    # sim_matrix = np.zeros(shape=(10,10))\n",
    "    # for i in range(len(documents)):\n",
    "    #     for j in range(i+1,len(documents)):\n",
    "    #         sim_matrix[i][j] = cosine_similarity(documents[i].embedding,documents[j].embedding)\n",
    "    \n",
    "    # sim_df = pd.DataFrame(sim_matrix, columns=[\"https://www.youtube.com/watch?v=\"+doc.doc_id for doc in documents], index=[\"https://www.youtube.com/watch?v=\"+doc.doc_id for doc in documents])\n",
    "    # sim_df.to_csv(\"similarity_mat.csv\")\n",
    "\n",
    "    # flat_sim_matrix = sim_matrix.flatten()\n",
    "    # indices = np.argpartition(flat_sim_matrix, -top_n)[-top_n:]\n",
    "    # indices = np.flip(indices[np.argsort(flat_sim_matrix[indices])])\n",
    "\n",
    "    # most_similar_pairs = []\n",
    "    # for idx in indices:\n",
    "    #     max_idx = np.unravel_index(idx,sim_matrix.shape)\n",
    "    #     most_similar_pairs.append({\n",
    "    #         'video1': \"https://www.youtube.com/watch?v=\"+documents[max_idx[0]].doc_id,\n",
    "    #         'video2': \"https://www.youtube.com/watch?v=\"+documents[max_idx[1]].doc_id,\n",
    "    #         'similarity': sim_matrix[max_idx[0]][max_idx[1]]\n",
    "    #     })\n",
    "\n",
    "    similarities = []\n",
    "    for i in range(len(documents)):\n",
    "        for j in range(i+1,len(documents)):\n",
    "            similarities.append({'v1_idx':i,'v2_idx':j,'score':cosine_similarity(documents[i].embedding,documents[j].embedding)})\n",
    "    \n",
    "    df = pd.DataFrame(similarities)\n",
    "    df['is_similar'] = (df['score']>0.3).astype(int)\n",
    "    df.to_csv(\"similarity_mat.csv\",index=False)\n",
    "    most_similar_pairs = [{\n",
    "            'video1': \"https://www.youtube.com/watch?v=\"+documents[t.v1_idx].doc_id,\n",
    "            'video2': \"https://www.youtube.com/watch?v=\"+documents[t.v2_idx].doc_id,\n",
    "            'similarity': t.score\n",
    "    } for t in df.sort_values('score',ascending=False).head(top_n).itertuples()]\n",
    "    return most_similar_pairs\n",
    "\n",
    "most_similar_videos_tool = FunctionTool.from_defaults(\n",
    "    fn=get_top_n_similar_videos,\n",
    "    description=\"Returns list of pairs of youtube links with most similarity.\"\n",
    ")"
   ]
  },
  {
   "cell_type": "code",
   "execution_count": 63,
   "metadata": {},
   "outputs": [],
   "source": [
    "agent = ReActAgent.from_tools(\n",
    "    tools=[summarize_youtube_video_tool,most_similar_videos_tool],\n",
    "    llm=llm,\n",
    "    verbose=True,\n",
    "    context=\"Purpose: The primary role of this agent is to figure out which pairs of videos are similar to each other based on their summary.\"\n",
    ")"
   ]
  },
  {
   "cell_type": "code",
   "execution_count": 64,
   "metadata": {},
   "outputs": [
    {
     "name": "stdout",
     "output_type": "stream",
     "text": [
      "> Running step 5c8cc06b-721b-4516-991c-68f3c38f7e70. Step input: Find similar pairs of videos based on summary from following list: ['https://www.youtube.com/watch?v=07Pmjxhuo4k', 'https://www.youtube.com/watch?v=MHj0dksesho', 'https://www.youtube.com/watch?v=FZJ5w3xHrAc', 'https://www.youtube.com/watch?v=zmWcR-Mj2QQ', 'https://www.youtube.com/watch?v=TDq3-wmihw4', 'https://www.youtube.com/watch?v=CFQfKhVweBI', 'https://www.youtube.com/watch?v=tvGgt-a445g', 'https://www.youtube.com/watch?v=czrgVVRPzJY', 'https://www.youtube.com/watch?v=4lQAD07KRAg', 'https://www.youtube.com/watch?v=3vzagdNuOCo']\n",
      "\u001b[1;3;38;5;200mThought: The current language of the user is: English. I need to use a tool to help me answer the question.\n",
      "Action: youtube_links_to_summary\n",
      "Action Input: {'youtube_links': ['https://www.youtube.com/watch?v=07Pmjxhuo4k', 'https://www.youtube.com/watch?v=MHj0dksesho', 'https://www.youtube.com/watch?v=FZJ5w3xHrAc', 'https://www.youtube.com/watch?v=zmWcR-Mj2QQ', 'https://www.youtube.com/watch?v=TDq3-wmihw4', 'https://www.youtube.com/watch?v=CFQfKhVweBI', 'https://www.youtube.com/watch?v=tvGgt-a445g', 'https://www.youtube.com/watch?v=czrgVVRPzJY', 'https://www.youtube.com/watch?v=4lQAD07KRAg', 'https://www.youtube.com/watch?v=3vzagdNuOCo']}\n",
      "\u001b[0m\u001b[1;3;34mObservation: True\n",
      "\u001b[0m> Running step 0c60614e-7e80-4d05-8137-1ff09ff61396. Step input: None\n",
      "\u001b[1;3;38;5;200mThought: I have the summaries for the provided YouTube links. Now I can use the get_top_n_similar_videos tool to find the most similar pairs of videos.\n",
      "Action: get_top_n_similar_videos\n",
      "Action Input: {'top_n': 5}\n",
      "\u001b[0m\u001b[1;3;34mObservation: [{'video1': 'https://www.youtube.com/watch?v=FZJ5w3xHrAc', 'video2': 'https://www.youtube.com/watch?v=3vzagdNuOCo', 'similarity': 0.6166502990482879}, {'video1': 'https://www.youtube.com/watch?v=TDq3-wmihw4', 'video2': 'https://www.youtube.com/watch?v=3vzagdNuOCo', 'similarity': 0.5854569089183563}, {'video1': 'https://www.youtube.com/watch?v=07Pmjxhuo4k', 'video2': 'https://www.youtube.com/watch?v=tvGgt-a445g', 'similarity': 0.5177456299024275}, {'video1': 'https://www.youtube.com/watch?v=FZJ5w3xHrAc', 'video2': 'https://www.youtube.com/watch?v=TDq3-wmihw4', 'similarity': 0.5145864511244012}, {'video1': 'https://www.youtube.com/watch?v=FZJ5w3xHrAc', 'video2': 'https://www.youtube.com/watch?v=CFQfKhVweBI', 'similarity': 0.5135763639119103}]\n",
      "\u001b[0m> Running step 3ccf4a45-0133-43c6-9fe4-cfd267af9923. Step input: None\n",
      "\u001b[1;3;38;5;200mThought: I can answer without using any more tools. I'll use the user's language to answer\n",
      "Answer: The most similar pairs of videos based on their summaries are:\n",
      "1. Video 1: https://www.youtube.com/watch?v=FZJ5w3xHrAc, Video 2: https://www.youtube.com/watch?v=3vzagdNuOCo, Similarity: 0.6167\n",
      "2. Video 1: https://www.youtube.com/watch?v=TDq3-wmihw4, Video 2: https://www.youtube.com/watch?v=3vzagdNuOCo, Similarity: 0.5855\n",
      "3. Video 1: https://www.youtube.com/watch?v=07Pmjxhuo4k, Video 2: https://www.youtube.com/watch?v=tvGgt-a445g, Similarity: 0.5177\n",
      "4. Video 1: https://www.youtube.com/watch?v=FZJ5w3xHrAc, Video 2: https://www.youtube.com/watch?v=TDq3-wmihw4, Similarity: 0.5146\n",
      "5. Video 1: https://www.youtube.com/watch?v=FZJ5w3xHrAc, Video 2: https://www.youtube.com/watch?v=CFQfKhVweBI, Similarity: 0.5136\n",
      "\u001b[0m"
     ]
    }
   ],
   "source": [
    "answer = agent.query(f'Find similar pairs of videos based on summary from following list: {df.link.to_list()}')"
   ]
  },
  {
   "cell_type": "markdown",
   "metadata": {},
   "source": [
    "### Calculate Accuracy of Agents's response"
   ]
  },
  {
   "cell_type": "code",
   "execution_count": 89,
   "metadata": {},
   "outputs": [],
   "source": [
    "agent_df = pd.read_csv(\"similarity_mat.csv\")"
   ]
  },
  {
   "cell_type": "code",
   "execution_count": 90,
   "metadata": {},
   "outputs": [
    {
     "data": {
      "text/plain": [
       "array([[22,  1],\n",
       "       [ 5, 17]], dtype=int64)"
      ]
     },
     "execution_count": 90,
     "metadata": {},
     "output_type": "execute_result"
    }
   ],
   "source": [
    "from sklearn.metrics import confusion_matrix, classification_report\n",
    "confusion_matrix(y_true=comb_df['is_similar'],y_pred=agent_df['is_similar'])"
   ]
  },
  {
   "cell_type": "code",
   "execution_count": 91,
   "metadata": {},
   "outputs": [
    {
     "name": "stdout",
     "output_type": "stream",
     "text": [
      "              precision    recall  f1-score   support\n",
      "\n",
      "           0       0.81      0.96      0.88        23\n",
      "           1       0.94      0.77      0.85        22\n",
      "\n",
      "    accuracy                           0.87        45\n",
      "   macro avg       0.88      0.86      0.86        45\n",
      "weighted avg       0.88      0.87      0.87        45\n",
      "\n"
     ]
    }
   ],
   "source": [
    "print(classification_report(y_true=comb_df['is_similar'],y_pred=agent_df['is_similar']))"
   ]
  }
 ],
 "metadata": {
  "kernelspec": {
   "display_name": ".venv",
   "language": "python",
   "name": "python3"
  },
  "language_info": {
   "codemirror_mode": {
    "name": "ipython",
    "version": 3
   },
   "file_extension": ".py",
   "mimetype": "text/x-python",
   "name": "python",
   "nbconvert_exporter": "python",
   "pygments_lexer": "ipython3",
   "version": "3.10.11"
  }
 },
 "nbformat": 4,
 "nbformat_minor": 2
}
