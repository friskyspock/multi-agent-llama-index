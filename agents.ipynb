{
 "cells": [
  {
   "cell_type": "code",
   "execution_count": 1,
   "metadata": {},
   "outputs": [],
   "source": [
    "from typing import List, Tuple\n",
    "from llama_index.core import Document, VectorStoreIndex, Settings\n",
    "from llama_index.core.agent import ReActAgent\n",
    "from llama_index.core.tools import FunctionTool\n",
    "from llama_index.readers.youtube_transcript import YoutubeTranscriptReader\n",
    "from youtube_transcript_api import YouTubeTranscriptApi\n",
    "from youtube_transcript_api._errors import CouldNotRetrieveTranscript\n",
    "import urllib.request\n",
    "import re, os\n",
    "import numpy as np\n",
    "import pandas as pd\n",
    "from llama_index.embeddings.ollama import OllamaEmbedding\n",
    "from llama_index.llms.ollama import Ollama\n",
    "from llama_index.core.llms import ChatMessage\n",
    "from llama_index.llms.azure_openai import AzureOpenAI\n",
    "from llama_index.embeddings.azure_openai import AzureOpenAIEmbedding"
   ]
  },
  {
   "cell_type": "code",
   "execution_count": 2,
   "metadata": {},
   "outputs": [
    {
     "data": {
      "text/plain": [
       "True"
      ]
     },
     "execution_count": 2,
     "metadata": {},
     "output_type": "execute_result"
    }
   ],
   "source": [
    "from dotenv import load_dotenv\n",
    "load_dotenv()"
   ]
  },
  {
   "cell_type": "code",
   "execution_count": 3,
   "metadata": {},
   "outputs": [
    {
     "name": "stderr",
     "output_type": "stream",
     "text": [
      "d:\\Projects\\Noha.ai\\.venv\\lib\\site-packages\\tqdm\\auto.py:21: TqdmWarning: IProgress not found. Please update jupyter and ipywidgets. See https://ipywidgets.readthedocs.io/en/stable/user_install.html\n",
      "  from .autonotebook import tqdm as notebook_tqdm\n"
     ]
    }
   ],
   "source": [
    "local_llm = Ollama(\n",
    "    model=\"llama3.2\", \n",
    "    request_timeout=60.0\n",
    ")\n",
    "\n",
    "# local_embed_model = OllamaEmbedding(\n",
    "#     model_name=\"mxbai-embed-large\",\n",
    "#     base_url=\"http://localhost:11434\",\n",
    "#     ollama_additional_kwargs={\"mirostat\": 0},\n",
    "# )\n",
    "\n",
    "from llama_index.embeddings.huggingface import HuggingFaceEmbedding\n",
    "local_embed_model = HuggingFaceEmbedding(\n",
    "    model_name=\"sentence-transformers/all-MiniLM-L6-v2\"\n",
    ")\n",
    "\n",
    "llm = AzureOpenAI(\n",
    "    engine = \"gpt-35-turbo\",\n",
    "    model = \"gpt-35-turbo\",\n",
    "    api_key = os.getenv('AZURE_OPENAI_API_KEY'),  \n",
    "    api_version = \"2024-02-01\",\n",
    "    azure_endpoint = os.getenv('AZURE_OPENAI_ENDPOINT')\n",
    ")\n",
    "\n",
    "embed_model = AzureOpenAIEmbedding(\n",
    "    model = \"text-embedding-3-large\",\n",
    "    deployment_name = \"text-embedding-3-large\",\n",
    "    api_key = os.getenv('AZURE_OPENAI_API_KEY'),\n",
    "    api_version = \"2024-02-01\",\n",
    "    azure_endpoint = os.getenv('AZURE_OPENAI_ENDPOINT')\n",
    ")\n",
    "\n",
    "Settings.llm = llm\n",
    "Settings.embed_model = embed_model"
   ]
  },
  {
   "cell_type": "code",
   "execution_count": 4,
   "metadata": {},
   "outputs": [],
   "source": [
    "def get_youtube_videos(search_keyword: str) -> list:\n",
    "    html = urllib.request.urlopen(\"https://www.youtube.com/results?search_query=\" + search_keyword.replace(' ','+'))\n",
    "    video_ids = re.findall(r\"watch\\?v=(\\S{11})\", html.read().decode())\n",
    "    unique_ids = []\n",
    "    for id in video_ids:\n",
    "        if len(unique_ids) == 10:\n",
    "            break\n",
    "\n",
    "        if id not in unique_ids:\n",
    "            try:\n",
    "                text = YouTubeTranscriptApi.get_transcript(id)\n",
    "                if len(text) > 2:\n",
    "                    unique_ids.append(id)\n",
    "            except CouldNotRetrieveTranscript:\n",
    "                pass\n",
    "            \n",
    "    return [\"https://www.youtube.com/watch?v=\"+i for i in unique_ids]\n",
    "\n",
    "get_youtube_videos_tool = FunctionTool.from_defaults(\n",
    "    fn=get_youtube_videos,\n",
    "    description=\"Returns list of 10 youtube video links for given search keyword.\"\n",
    ")"
   ]
  },
  {
   "cell_type": "code",
   "execution_count": 5,
   "metadata": {},
   "outputs": [],
   "source": [
    "youtube_search_agent = ReActAgent.from_tools(\n",
    "    tools=[get_youtube_videos_tool],\n",
    "    llm=llm,\n",
    "    verbose=True,\n",
    "    context=\"Purpose: The primary role of this agent is to provide youtube video links for given query. Provide full link in answer.\"\n",
    ")"
   ]
  },
  {
   "cell_type": "code",
   "execution_count": 6,
   "metadata": {},
   "outputs": [
    {
     "name": "stdout",
     "output_type": "stream",
     "text": [
      "> Running step 62bcf95e-dc5a-414a-92ca-b9ac814cd2c1. Step input: Can you give me 10 videos for Jupiter?\n",
      "\u001b[1;3;38;5;200mThought: The user is asking for 10 YouTube videos related to the topic \"Jupiter\".\n",
      "Action: get_youtube_videos\n",
      "Action Input: {'search_keyword': 'Jupiter'}\n",
      "\u001b[0m\u001b[1;3;34mObservation: ['https://www.youtube.com/watch?v=07Pmjxhuo4k', 'https://www.youtube.com/watch?v=XWVBBPcxoZE', 'https://www.youtube.com/watch?v=MHj0dksesho', 'https://www.youtube.com/watch?v=3vzagdNuOCo', 'https://www.youtube.com/watch?v=FZJ5w3xHrAc', 'https://www.youtube.com/watch?v=TDq3-wmihw4', 'https://www.youtube.com/watch?v=zmWcR-Mj2QQ', 'https://www.youtube.com/watch?v=jO9h2qez9Wg', 'https://www.youtube.com/watch?v=czrgVVRPzJY', 'https://www.youtube.com/watch?v=LmnRH4aWaug']\n",
      "\u001b[0m> Running step 77e817d8-ea8a-4eab-9378-8545934ee1be. Step input: None\n",
      "\u001b[1;3;38;5;200mThought: I have the YouTube video links related to \"Jupiter\".\n",
      "Answer: Here are the YouTube video links related to Jupiter:\n",
      "1. https://www.youtube.com/watch?v=07Pmjxhuo4k\n",
      "2. https://www.youtube.com/watch?v=XWVBBPcxoZE\n",
      "3. https://www.youtube.com/watch?v=MHj0dksesho\n",
      "4. https://www.youtube.com/watch?v=3vzagdNuOCo\n",
      "5. https://www.youtube.com/watch?v=FZJ5w3xHrAc\n",
      "6. https://www.youtube.com/watch?v=TDq3-wmihw4\n",
      "7. https://www.youtube.com/watch?v=zmWcR-Mj2QQ\n",
      "8. https://www.youtube.com/watch?v=jO9h2qez9Wg\n",
      "9. https://www.youtube.com/watch?v=czrgVVRPzJY\n",
      "10. https://www.youtube.com/watch?v=LmnRH4aWaug\n",
      "\u001b[0m"
     ]
    }
   ],
   "source": [
    "response1 = youtube_search_agent.query(\"Can you give me 10 videos for Jupiter?\")"
   ]
  },
  {
   "cell_type": "code",
   "execution_count": 7,
   "metadata": {},
   "outputs": [
    {
     "name": "stdout",
     "output_type": "stream",
     "text": [
      "Here are the YouTube video links related to Jupiter:\n",
      "1. https://www.youtube.com/watch?v=07Pmjxhuo4k\n",
      "2. https://www.youtube.com/watch?v=XWVBBPcxoZE\n",
      "3. https://www.youtube.com/watch?v=MHj0dksesho\n",
      "4. https://www.youtube.com/watch?v=3vzagdNuOCo\n",
      "5. https://www.youtube.com/watch?v=FZJ5w3xHrAc\n",
      "6. https://www.youtube.com/watch?v=TDq3-wmihw4\n",
      "7. https://www.youtube.com/watch?v=zmWcR-Mj2QQ\n",
      "8. https://www.youtube.com/watch?v=jO9h2qez9Wg\n",
      "9. https://www.youtube.com/watch?v=czrgVVRPzJY\n",
      "10. https://www.youtube.com/watch?v=LmnRH4aWaug\n"
     ]
    }
   ],
   "source": [
    "print(response1.response)"
   ]
  },
  {
   "cell_type": "code",
   "execution_count": 8,
   "metadata": {},
   "outputs": [],
   "source": [
    "def summarize_text(text: str) -> str:\n",
    "    prompt = f\"Summarize the following text in a concise way:\\n\\n{text}\"\n",
    "    \n",
    "    response = llm.chat([\n",
    "        ChatMessage(role=\"user\",content=prompt)\n",
    "    ])\n",
    "    \n",
    "    return response.message.content\n",
    "\n",
    "def youtube_links_to_summary(youtube_links: List[str]) -> bool:\n",
    "    loader = YoutubeTranscriptReader()\n",
    "    documents = loader.load_data(ytlinks=youtube_links)\n",
    "    df = pd.DataFrame([{'doc_id':doc.doc_id,'text':summarize_text(doc.text)} for doc in documents])\n",
    "    df.to_csv(\"top_10_summaries.csv\",index=False, sep=\"|\")\n",
    "    return True\n",
    "\n",
    "# def youtube_links_to_summary(youtube_links: List[str]) -> List[str]:\n",
    "#     loader = YoutubeTranscriptReader()\n",
    "#     documents = loader.load_data(ytlinks=youtube_links)\n",
    "#     df = pd.DataFrame([{'doc_id':doc.doc_id,'text':summarize_text(doc.text)} for doc in documents])\n",
    "#     df.to_csv(\"top_10_summaries.csv\",index=False, sep=\"|\")\n",
    "#     return df.text.to_list()\n",
    "\n",
    "summarize_youtube_video_tool = FunctionTool.from_defaults(\n",
    "    fn=youtube_links_to_summary,\n",
    "    # description=\"Returns array of summaries of all youtube links.\"\n",
    "    description=\"Returns True if summaries are stored in file.\"\n",
    ")"
   ]
  },
  {
   "cell_type": "code",
   "execution_count": 9,
   "metadata": {},
   "outputs": [],
   "source": [
    "summarize_youtube_agent = ReActAgent.from_tools(\n",
    "    tools=[summarize_youtube_video_tool],\n",
    "    llm=llm,\n",
    "    verbose=True,\n",
    "    # context=\"Purpose: The primary role of this agent is to give summary of each youtube video link given in input.\"\n",
    "    context=\"Purpose: The primary role of this agent is to save summary of each youtube video link in csv file. Except True on successful execution.\"\n",
    ")"
   ]
  },
  {
   "cell_type": "code",
   "execution_count": 11,
   "metadata": {},
   "outputs": [
    {
     "name": "stdout",
     "output_type": "stream",
     "text": [
      "> Running step b27af1dc-62cd-44cd-bc38-d9f4da35cf21. Step input: Save summary for each youtube links given here: Here are the YouTube video links related to Jupiter:\n",
      "1. https://www.youtube.com/watch?v=07Pmjxhuo4k\n",
      "2. https://www.youtube.com/watch?v=XWVBBPcxoZE\n",
      "3. https://www.youtube.com/watch?v=MHj0dksesho\n",
      "4. https://www.youtube.com/watch?v=3vzagdNuOCo\n",
      "5. https://www.youtube.com/watch?v=FZJ5w3xHrAc\n",
      "6. https://www.youtube.com/watch?v=TDq3-wmihw4\n",
      "7. https://www.youtube.com/watch?v=zmWcR-Mj2QQ\n",
      "8. https://www.youtube.com/watch?v=jO9h2qez9Wg\n",
      "9. https://www.youtube.com/watch?v=czrgVVRPzJY\n",
      "10. https://www.youtube.com/watch?v=LmnRH4aWaug\n",
      "\u001b[1;3;38;5;200mThought: The current language of the user is: English. I need to use a tool to help me answer the question.\n",
      "Action: youtube_links_to_summary\n",
      "Action Input: {'youtube_links': ['https://www.youtube.com/watch?v=07Pmjxhuo4k', 'https://www.youtube.com/watch?v=XWVBBPcxoZE', 'https://www.youtube.com/watch?v=MHj0dksesho', 'https://www.youtube.com/watch?v=3vzagdNuOCo', 'https://www.youtube.com/watch?v=FZJ5w3xHrAc', 'https://www.youtube.com/watch?v=TDq3-wmihw4', 'https://www.youtube.com/watch?v=zmWcR-Mj2QQ', 'https://www.youtube.com/watch?v=jO9h2qez9Wg', 'https://www.youtube.com/watch?v=czrgVVRPzJY', 'https://www.youtube.com/watch?v=LmnRH4aWaug']}\n",
      "\u001b[0m\u001b[1;3;34mObservation: True\n",
      "\u001b[0m> Running step c9e0a907-26a4-45ae-9fdc-b9dd366c42f3. Step input: None\n",
      "\u001b[1;3;38;5;200mThought: I can answer without using any more tools. I'll use the user's language to answer\n",
      "Answer: The summaries for the YouTube video links related to Jupiter have been successfully saved.\n",
      "\u001b[0m"
     ]
    }
   ],
   "source": [
    "response2 = summarize_youtube_agent.query(\"Save summary for each youtube links given here: \"+response1.response)\n",
    "# response2 = summarize_youtube_agent.query(\"Give summary for each youtube links given here: \"+response1.response)"
   ]
  },
  {
   "cell_type": "code",
   "execution_count": 12,
   "metadata": {},
   "outputs": [
    {
     "name": "stdout",
     "output_type": "stream",
     "text": [
      "The summaries for the YouTube video links related to Jupiter have been successfully saved.\n"
     ]
    }
   ],
   "source": [
    "print(response2.response)"
   ]
  },
  {
   "cell_type": "code",
   "execution_count": 4,
   "metadata": {},
   "outputs": [],
   "source": [
    "def cosine_similarity(vec1, vec2):\n",
    "    vec1 = np.array(vec1)\n",
    "    vec2 = np.array(vec2)\n",
    "    dot_product = np.dot(vec1, vec2)\n",
    "    norm_vec1 = np.linalg.norm(vec1)\n",
    "    norm_vec2 = np.linalg.norm(vec2)\n",
    "    return dot_product / (norm_vec1 * norm_vec2)\n",
    "\n",
    "def get_top_n_similar_videos(top_n: int) -> List[dict]:\n",
    "    df = pd.read_csv(\"top_10_summaries.csv\",sep=\"|\")\n",
    "    documents = []\n",
    "    for t in df.itertuples():\n",
    "        documents.append(\n",
    "            Document(\n",
    "                doc_id=t.doc_id,\n",
    "                text=t.text,\n",
    "                metadata={'video_id':t.doc_id},\n",
    "                embedding=local_embed_model.get_text_embedding(t.text)\n",
    "            )\n",
    "        )\n",
    "\n",
    "    sim_matrix = np.zeros(shape=(10,10))\n",
    "    for i in range(len(documents)):\n",
    "        for j in range(i+1,len(documents)):\n",
    "            sim_matrix[i][j] = cosine_similarity(documents[i].embedding,documents[j].embedding)\n",
    "    \n",
    "    sim_df = pd.DataFrame(sim_matrix, columns=[\"https://www.youtube.com/watch?v=\"+doc.doc_id for doc in documents], index=[\"https://www.youtube.com/watch?v=\"+doc.doc_id for doc in documents])\n",
    "    sim_df.to_csv(\"similarity_mat.csv\")\n",
    "\n",
    "    flat_sim_matrix = sim_matrix.flatten()\n",
    "    indices = np.argpartition(flat_sim_matrix, -top_n)[-top_n:]\n",
    "    indices = np.flip(indices[np.argsort(flat_sim_matrix[indices])])\n",
    "\n",
    "    most_similar_pairs = []\n",
    "    for idx in indices:\n",
    "        max_idx = np.unravel_index(idx,sim_matrix.shape)\n",
    "        most_similar_pairs.append({\n",
    "            'video1': \"https://www.youtube.com/watch?v=\"+documents[max_idx[0]].doc_id,\n",
    "            'video2': \"https://www.youtube.com/watch?v=\"+documents[max_idx[1]].doc_id,\n",
    "            'similarity': sim_matrix[max_idx[0]][max_idx[1]]\n",
    "        })\n",
    "    \n",
    "    return most_similar_pairs\n",
    "\n",
    "most_similar_videos_tool = FunctionTool.from_defaults(\n",
    "    fn=get_top_n_similar_videos,\n",
    "    description=\"Returns list of pairs of youtube links with most similarity.\"\n",
    ")"
   ]
  },
  {
   "cell_type": "code",
   "execution_count": 5,
   "metadata": {},
   "outputs": [],
   "source": [
    "similarity_agent = ReActAgent.from_tools(\n",
    "    tools=[most_similar_videos_tool],\n",
    "    llm=llm,\n",
    "    verbose=True,\n",
    "    context=\"Purpose: The primary role of this agent is to give n pairs of most similar youtube videos.\"\n",
    ")"
   ]
  },
  {
   "cell_type": "code",
   "execution_count": 6,
   "metadata": {},
   "outputs": [
    {
     "name": "stdout",
     "output_type": "stream",
     "text": [
      "> Running step dc82661c-6685-422d-934f-19b3d5a18503. Step input: Give me 5 pairs of most similar videos.\n",
      "\u001b[1;3;38;5;200mThought: The current language of the user is: English. I need to use a tool to help me answer the question.\n",
      "Action: get_top_n_similar_videos\n",
      "Action Input: {'top_n': 5}\n",
      "\u001b[0m\u001b[1;3;34mObservation: [{'video1': 'https://www.youtube.com/watch?v=3vzagdNuOCo', 'video2': 'https://www.youtube.com/watch?v=FZJ5w3xHrAc', 'similarity': 0.6166502990482879}, {'video1': 'https://www.youtube.com/watch?v=3vzagdNuOCo', 'video2': 'https://www.youtube.com/watch?v=TDq3-wmihw4', 'similarity': 0.5854569089183563}, {'video1': 'https://www.youtube.com/watch?v=FZJ5w3xHrAc', 'video2': 'https://www.youtube.com/watch?v=TDq3-wmihw4', 'similarity': 0.5145864511244012}, {'video1': 'https://www.youtube.com/watch?v=TDq3-wmihw4', 'video2': 'https://www.youtube.com/watch?v=zmWcR-Mj2QQ', 'similarity': 0.47643341857437804}, {'video1': 'https://www.youtube.com/watch?v=07Pmjxhuo4k', 'video2': 'https://www.youtube.com/watch?v=LmnRH4aWaug', 'similarity': 0.4693600533098444}]\n",
      "\u001b[0m> Running step 8814d4ff-59ab-43b3-b855-d8ed102e90a3. Step input: None\n",
      "\u001b[1;3;38;5;200mThought: I can answer without using any more tools. I'll use the user's language to answer\n",
      "Answer: Here are the 5 pairs of most similar videos:\n",
      "1. Video 1: [https://www.youtube.com/watch?v=3vzagdNuOCo], Video 2: [https://www.youtube.com/watch?v=FZJ5w3xHrAc], Similarity: 0.6167\n",
      "2. Video 1: [https://www.youtube.com/watch?v=3vzagdNuOCo], Video 2: [https://www.youtube.com/watch?v=TDq3-wmihw4], Similarity: 0.5855\n",
      "3. Video 1: [https://www.youtube.com/watch?v=FZJ5w3xHrAc], Video 2: [https://www.youtube.com/watch?v=TDq3-wmihw4], Similarity: 0.5146\n",
      "4. Video 1: [https://www.youtube.com/watch?v=TDq3-wmihw4], Video 2: [https://www.youtube.com/watch?v=zmWcR-Mj2QQ], Similarity: 0.4764\n",
      "5. Video 1: [https://www.youtube.com/watch?v=07Pmjxhuo4k], Video 2: [https://www.youtube.com/watch?v=LmnRH4aWaug], Similarity: 0.4694\n",
      "\u001b[0m"
     ]
    }
   ],
   "source": [
    "response3 = similarity_agent.query(\"Give me 5 pairs of most similar videos.\")"
   ]
  },
  {
   "cell_type": "code",
   "execution_count": 7,
   "metadata": {},
   "outputs": [
    {
     "name": "stdout",
     "output_type": "stream",
     "text": [
      "Here are the 5 pairs of most similar videos:\n",
      "1. Video 1: [https://www.youtube.com/watch?v=3vzagdNuOCo], Video 2: [https://www.youtube.com/watch?v=FZJ5w3xHrAc], Similarity: 0.6167\n",
      "2. Video 1: [https://www.youtube.com/watch?v=3vzagdNuOCo], Video 2: [https://www.youtube.com/watch?v=TDq3-wmihw4], Similarity: 0.5855\n",
      "3. Video 1: [https://www.youtube.com/watch?v=FZJ5w3xHrAc], Video 2: [https://www.youtube.com/watch?v=TDq3-wmihw4], Similarity: 0.5146\n",
      "4. Video 1: [https://www.youtube.com/watch?v=TDq3-wmihw4], Video 2: [https://www.youtube.com/watch?v=zmWcR-Mj2QQ], Similarity: 0.4764\n",
      "5. Video 1: [https://www.youtube.com/watch?v=07Pmjxhuo4k], Video 2: [https://www.youtube.com/watch?v=LmnRH4aWaug], Similarity: 0.4694\n"
     ]
    }
   ],
   "source": [
    "print(response3.response)"
   ]
  },
  {
   "cell_type": "code",
   "execution_count": 10,
   "metadata": {},
   "outputs": [],
   "source": [
    "df = pd.read_csv('similarity_mat.csv',index_col=[0])"
   ]
  },
  {
   "cell_type": "code",
   "execution_count": 25,
   "metadata": {},
   "outputs": [],
   "source": [
    "records = []\n",
    "for i in range(10):\n",
    "    for j in range(i+1,10):\n",
    "        records.append({'video1':df.index[i],'video2':df.columns[j],'score':df.iloc[i,j]})\n",
    "rec_df = pd.DataFrame(records)"
   ]
  },
  {
   "cell_type": "code",
   "execution_count": 26,
   "metadata": {},
   "outputs": [
    {
     "data": {
      "text/html": [
       "<div>\n",
       "<style scoped>\n",
       "    .dataframe tbody tr th:only-of-type {\n",
       "        vertical-align: middle;\n",
       "    }\n",
       "\n",
       "    .dataframe tbody tr th {\n",
       "        vertical-align: top;\n",
       "    }\n",
       "\n",
       "    .dataframe thead th {\n",
       "        text-align: right;\n",
       "    }\n",
       "</style>\n",
       "<table border=\"1\" class=\"dataframe\">\n",
       "  <thead>\n",
       "    <tr style=\"text-align: right;\">\n",
       "      <th></th>\n",
       "      <th>video1</th>\n",
       "      <th>video2</th>\n",
       "      <th>score</th>\n",
       "    </tr>\n",
       "  </thead>\n",
       "  <tbody>\n",
       "    <tr>\n",
       "      <th>24</th>\n",
       "      <td>https://www.youtube.com/watch?v=3vzagdNuOCo</td>\n",
       "      <td>https://www.youtube.com/watch?v=FZJ5w3xHrAc</td>\n",
       "      <td>0.616650</td>\n",
       "    </tr>\n",
       "    <tr>\n",
       "      <th>25</th>\n",
       "      <td>https://www.youtube.com/watch?v=3vzagdNuOCo</td>\n",
       "      <td>https://www.youtube.com/watch?v=TDq3-wmihw4</td>\n",
       "      <td>0.585457</td>\n",
       "    </tr>\n",
       "    <tr>\n",
       "      <th>30</th>\n",
       "      <td>https://www.youtube.com/watch?v=FZJ5w3xHrAc</td>\n",
       "      <td>https://www.youtube.com/watch?v=TDq3-wmihw4</td>\n",
       "      <td>0.514586</td>\n",
       "    </tr>\n",
       "    <tr>\n",
       "      <th>35</th>\n",
       "      <td>https://www.youtube.com/watch?v=TDq3-wmihw4</td>\n",
       "      <td>https://www.youtube.com/watch?v=zmWcR-Mj2QQ</td>\n",
       "      <td>0.476433</td>\n",
       "    </tr>\n",
       "    <tr>\n",
       "      <th>8</th>\n",
       "      <td>https://www.youtube.com/watch?v=07Pmjxhuo4k</td>\n",
       "      <td>https://www.youtube.com/watch?v=LmnRH4aWaug</td>\n",
       "      <td>0.469360</td>\n",
       "    </tr>\n",
       "    <tr>\n",
       "      <th>32</th>\n",
       "      <td>https://www.youtube.com/watch?v=FZJ5w3xHrAc</td>\n",
       "      <td>https://www.youtube.com/watch?v=jO9h2qez9Wg</td>\n",
       "      <td>0.461005</td>\n",
       "    </tr>\n",
       "    <tr>\n",
       "      <th>27</th>\n",
       "      <td>https://www.youtube.com/watch?v=3vzagdNuOCo</td>\n",
       "      <td>https://www.youtube.com/watch?v=jO9h2qez9Wg</td>\n",
       "      <td>0.451152</td>\n",
       "    </tr>\n",
       "    <tr>\n",
       "      <th>26</th>\n",
       "      <td>https://www.youtube.com/watch?v=3vzagdNuOCo</td>\n",
       "      <td>https://www.youtube.com/watch?v=zmWcR-Mj2QQ</td>\n",
       "      <td>0.448302</td>\n",
       "    </tr>\n",
       "    <tr>\n",
       "      <th>31</th>\n",
       "      <td>https://www.youtube.com/watch?v=FZJ5w3xHrAc</td>\n",
       "      <td>https://www.youtube.com/watch?v=zmWcR-Mj2QQ</td>\n",
       "      <td>0.425237</td>\n",
       "    </tr>\n",
       "    <tr>\n",
       "      <th>11</th>\n",
       "      <td>https://www.youtube.com/watch?v=XWVBBPcxoZE</td>\n",
       "      <td>https://www.youtube.com/watch?v=FZJ5w3xHrAc</td>\n",
       "      <td>0.418047</td>\n",
       "    </tr>\n",
       "  </tbody>\n",
       "</table>\n",
       "</div>"
      ],
      "text/plain": [
       "                                         video1  \\\n",
       "24  https://www.youtube.com/watch?v=3vzagdNuOCo   \n",
       "25  https://www.youtube.com/watch?v=3vzagdNuOCo   \n",
       "30  https://www.youtube.com/watch?v=FZJ5w3xHrAc   \n",
       "35  https://www.youtube.com/watch?v=TDq3-wmihw4   \n",
       "8   https://www.youtube.com/watch?v=07Pmjxhuo4k   \n",
       "32  https://www.youtube.com/watch?v=FZJ5w3xHrAc   \n",
       "27  https://www.youtube.com/watch?v=3vzagdNuOCo   \n",
       "26  https://www.youtube.com/watch?v=3vzagdNuOCo   \n",
       "31  https://www.youtube.com/watch?v=FZJ5w3xHrAc   \n",
       "11  https://www.youtube.com/watch?v=XWVBBPcxoZE   \n",
       "\n",
       "                                         video2     score  \n",
       "24  https://www.youtube.com/watch?v=FZJ5w3xHrAc  0.616650  \n",
       "25  https://www.youtube.com/watch?v=TDq3-wmihw4  0.585457  \n",
       "30  https://www.youtube.com/watch?v=TDq3-wmihw4  0.514586  \n",
       "35  https://www.youtube.com/watch?v=zmWcR-Mj2QQ  0.476433  \n",
       "8   https://www.youtube.com/watch?v=LmnRH4aWaug  0.469360  \n",
       "32  https://www.youtube.com/watch?v=jO9h2qez9Wg  0.461005  \n",
       "27  https://www.youtube.com/watch?v=jO9h2qez9Wg  0.451152  \n",
       "26  https://www.youtube.com/watch?v=zmWcR-Mj2QQ  0.448302  \n",
       "31  https://www.youtube.com/watch?v=zmWcR-Mj2QQ  0.425237  \n",
       "11  https://www.youtube.com/watch?v=FZJ5w3xHrAc  0.418047  "
      ]
     },
     "execution_count": 26,
     "metadata": {},
     "output_type": "execute_result"
    }
   ],
   "source": [
    "rec_df.sort_values('score',ascending=False).head(10)"
   ]
  },
  {
   "cell_type": "code",
   "execution_count": 27,
   "metadata": {},
   "outputs": [],
   "source": [
    "manual_scores = pd.read_csv('manual_scoring.csv')"
   ]
  },
  {
   "cell_type": "code",
   "execution_count": 34,
   "metadata": {},
   "outputs": [
    {
     "data": {
      "text/plain": [
       "True"
      ]
     },
     "execution_count": 34,
     "metadata": {},
     "output_type": "execute_result"
    }
   ],
   "source": [
    "(rec_df['video1']==manual_scores['video1']).all()"
   ]
  },
  {
   "cell_type": "code",
   "execution_count": 32,
   "metadata": {},
   "outputs": [
    {
     "data": {
      "text/plain": [
       "0.219500281744659"
      ]
     },
     "execution_count": 32,
     "metadata": {},
     "output_type": "execute_result"
    }
   ],
   "source": [
    "np.absolute(rec_df['score'] - manual_scores['score']).sum()/45"
   ]
  }
 ],
 "metadata": {
  "kernelspec": {
   "display_name": ".venv",
   "language": "python",
   "name": "python3"
  },
  "language_info": {
   "codemirror_mode": {
    "name": "ipython",
    "version": 3
   },
   "file_extension": ".py",
   "mimetype": "text/x-python",
   "name": "python",
   "nbconvert_exporter": "python",
   "pygments_lexer": "ipython3",
   "version": "3.10.11"
  }
 },
 "nbformat": 4,
 "nbformat_minor": 2
}
