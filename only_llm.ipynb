{
 "cells": [
  {
   "cell_type": "code",
   "execution_count": 5,
   "metadata": {},
   "outputs": [
    {
     "data": {
      "text/plain": [
       "True"
      ]
     },
     "execution_count": 5,
     "metadata": {},
     "output_type": "execute_result"
    }
   ],
   "source": [
    "from llama_index.llms.azure_openai import AzureOpenAI\n",
    "from llama_index.core.llms import ChatMessage\n",
    "import os\n",
    "\n",
    "from dotenv import load_dotenv\n",
    "load_dotenv()"
   ]
  },
  {
   "cell_type": "code",
   "execution_count": 4,
   "metadata": {},
   "outputs": [],
   "source": [
    "llm = AzureOpenAI(\n",
    "    engine = \"gpt-35-turbo\",\n",
    "    model = \"gpt-35-turbo\",\n",
    "    api_key = os.getenv('AZURE_OPENAI_API_KEY'),  \n",
    "    api_version = \"2024-02-01\",\n",
    "    azure_endpoint = os.getenv('AZURE_OPENAI_ENDPOINT')\n",
    ")"
   ]
  },
  {
   "cell_type": "code",
   "execution_count": 10,
   "metadata": {},
   "outputs": [],
   "source": [
    "prompt = '''\n",
    "This are 10 videos from youtube for keyword 'Jupiter' and their summaries:\n",
    "07Pmjxhuo4k|The text is about a person struggling with self-acceptance and the message to never give up on love.\n",
    "XWVBBPcxoZE|Gagan introduces the new TVS Jupiter, discussing changes in the chassis, engine, and features. He also demonstrates the scooter's key functions, screen, and mobile app. The scooter has a smaller fuel tank but increased fuel efficiency. Gagan mentions a separate video for his opinion on the scooter, and encourages viewers to like, share, and subscribe.\n",
    "MHj0dksesho|The new Jitter 110 has a bigger seat and handlebar, making it comfortable for taller riders but potentially challenging for shorter ones. The reviewer, who is 5'9, finds it comfortable, while a colleague who is 5'5 struggles with flat footing but has plenty of room. Overall, the reviewer finds the scooter spacious and comfortable.\n",
    "3vzagdNuOCo|The text describes capturing Jupiter's Great Red Spot with a large telescope and the result being accompanied by music.\n",
    "FZJ5w3xHrAc|Jupiter will be closer to Earth than it has been in 59 years, and the speaker plans to point a dynamic laser at it. It will be slightly brighter than usual, and the speaker thinks it's pretty cool.\n",
    "TDq3-wmihw4|Jupiter's giant red spot, a storm that has been going on for nearly 360 years, is starting to become more circular, indicating that its wind speeds are speeding up. The cause of the storm and its increased speeds is currently unknown, but it has similar properties to a hurricane on Earth, with a cleared out center almost as big as Earth itself.\n",
    "zmWcR-Mj2QQ|Jupiter is the largest planet in our solar system, with a size so big that all other planets could fit inside it. The largest exoplanet, hd100546b, is a gas giant with a mass of 752 Jupiters and a radius of 300,000 miles, located about 358 light years from Earth.\n",
    "jO9h2qez9Wg|NASA launched a mission to search for alien life near Jupiter's moon Europa using the $5 billion Europa Clipper probe. The mission aims to detect potential life forms in the moon's deep water ocean using hydrothermal vents for energy. If successful, it will provide the first solid evidence for life from another world.\n",
    "czrgVVRPzJY|The new TVs Jupyter 110 has an all new design with LED daytime running lights, a color LCD instrument cluster, and a 113cc engine with integrated starter generator for more power and better fuel efficiency. It also has a longer seat and 33L of under-seat storage. A first ride report is coming soon.\n",
    "LmnRH4aWaug|The text is a brief and repetitive expression of excitement or enthusiasm for music.\n",
    "\n",
    "Can you give me similarity score for each pair of video?\n",
    "'''\n",
    "\n",
    "response = llm.chat([\n",
    "    ChatMessage(role=\"user\",content=prompt)\n",
    "])"
   ]
  },
  {
   "cell_type": "code",
   "execution_count": 11,
   "metadata": {},
   "outputs": [
    {
     "name": "stdout",
     "output_type": "stream",
     "text": [
      "Sure, here are the similarity scores for each pair of videos:\n",
      "\n",
      "1. 07Pmjxhuo4k & XWVBBPcxoZE - 0.12\n",
      "2. 07Pmjxhuo4k & MHj0dksesho - 0.09\n",
      "3. 07Pmjxhuo4k & 3vzagdNuOCo - 0.00\n",
      "4. 07Pmjxhuo4k & FZJ5w3xHrAc - 0.00\n",
      "5. 07Pmjxhuo4k & TDq3-wmihw4 - 0.00\n",
      "6. 07Pmjxhuo4k & zmWcR-Mj2QQ - 0.00\n",
      "7. 07Pmjxhuo4k & jO9h2qez9Wg - 0.00\n",
      "8. 07Pmjxhuo4k & czrgVVRPzJY - 0.00\n",
      "9. 07Pmjxhuo4k & LmnRH4aWaug - 0.00\n",
      "10. XWVBBPcxoZE & MHj0dksesho - 0.11\n",
      "11. XWVBBPcxoZE & 3vzagdNuOCo - 0.00\n",
      "12. XWVBBPcxoZE & FZJ5w3xHrAc - 0.00\n",
      "13. XWVBBPcxoZE & TDq3-wmihw4 - 0.00\n",
      "14. XWVBBPcxoZE & zmWcR-Mj2QQ - 0.00\n",
      "15. XWVBBPcxoZE & jO9h2qez9Wg - 0.00\n",
      "16. XWVBBPcxoZE & czrgVVRPzJY - 0.00\n",
      "17. XWVBBPcxoZE & LmnRH4aWaug - 0.00\n",
      "18. MHj0dksesho & 3vzagdNuOCo - 0.08\n",
      "19. MHj0dksesho & FZJ5w3xHrAc - 0.00\n",
      "20. MHj0dksesho & TDq3-wmihw4 - 0.00\n",
      "21. MHj0dksesho & zmWcR-Mj2QQ - 0.00\n",
      "22. MHj0dksesho & jO9h2qez9Wg - 0.00\n",
      "23. MHj0dksesho & czrgVVRPzJY - 0.00\n",
      "24. MHj0dksesho & LmnRH4aWaug - 0.00\n",
      "25. 3vzagdNuOCo & FZJ5w3xHrAc - 0.00\n",
      "26. 3vzagdNuOCo & TDq3-wmihw4 - 0.00\n",
      "27. 3vzagdNuOCo & zmWcR-Mj2QQ - 0.00\n",
      "28. 3vzagdNuOCo & jO9h2qez9Wg - 0.00\n",
      "29. 3vzagdNuOCo & czrgVVRPzJY - 0.00\n",
      "30. 3vzagdNuOCo & LmnRH4aWaug - 0.00\n",
      "31. FZJ5w3xHrAc & TDq3-wmihw4 - 0.33\n",
      "32. FZJ5w3xHrAc & zmWcR-Mj2QQ - 0.00\n",
      "33. FZJ5w3xHrAc & jO9h2qez9Wg - 0.00\n",
      "34. FZJ5w3xHrAc & czrgVVRPzJY - 0.00\n",
      "35. FZJ5w3xHrAc & LmnRH4aWaug - 0.00\n",
      "36. TDq3-wmihw4 & zmWcR-Mj2QQ - 0.00\n",
      "37. TDq3-wmihw4 & jO9h2qez9Wg - 0.00\n",
      "38. TDq3-wmihw4 & czrgVVRPzJY - 0.00\n",
      "39. TDq3-wmihw4 & LmnRH4aWaug - 0.00\n",
      "40. zmWcR-Mj2QQ & jO9h2qez9Wg - 0.00\n",
      "41. zmWcR-Mj2QQ & czrgVVRPzJY - 0.00\n",
      "42. zmWcR-Mj2QQ & LmnRH4aWaug - 0.00\n",
      "43. jO9h2qez9Wg & czrgVVRPzJY - 0.00\n",
      "44. jO9h2qez9Wg & LmnRH4aWaug - 0.00\n",
      "45. czrgVVRPzJY & LmnRH4aWaug - 0.00\n"
     ]
    }
   ],
   "source": [
    "print(response.message.content)"
   ]
  },
  {
   "cell_type": "code",
   "execution_count": 20,
   "metadata": {},
   "outputs": [],
   "source": [
    "records = []\n",
    "for line in str(response.message.content).splitlines()[2:]:\n",
    "    words = line.split()\n",
    "    records.append({'video1':\"https://www.youtube.com/watch?v=\"+words[1],'video2':\"https://www.youtube.com/watch?v=\"+words[3],'score':float(words[5])})"
   ]
  },
  {
   "cell_type": "code",
   "execution_count": 21,
   "metadata": {},
   "outputs": [],
   "source": [
    "import pandas as pd\n",
    "df = pd.DataFrame(records)"
   ]
  },
  {
   "cell_type": "code",
   "execution_count": 22,
   "metadata": {},
   "outputs": [
    {
     "data": {
      "text/html": [
       "<div>\n",
       "<style scoped>\n",
       "    .dataframe tbody tr th:only-of-type {\n",
       "        vertical-align: middle;\n",
       "    }\n",
       "\n",
       "    .dataframe tbody tr th {\n",
       "        vertical-align: top;\n",
       "    }\n",
       "\n",
       "    .dataframe thead th {\n",
       "        text-align: right;\n",
       "    }\n",
       "</style>\n",
       "<table border=\"1\" class=\"dataframe\">\n",
       "  <thead>\n",
       "    <tr style=\"text-align: right;\">\n",
       "      <th></th>\n",
       "      <th>video1</th>\n",
       "      <th>video2</th>\n",
       "      <th>score</th>\n",
       "    </tr>\n",
       "  </thead>\n",
       "  <tbody>\n",
       "    <tr>\n",
       "      <th>30</th>\n",
       "      <td>https://www.youtube.com/watch?v=FZJ5w3xHrAc</td>\n",
       "      <td>https://www.youtube.com/watch?v=TDq3-wmihw4</td>\n",
       "      <td>0.33</td>\n",
       "    </tr>\n",
       "    <tr>\n",
       "      <th>0</th>\n",
       "      <td>https://www.youtube.com/watch?v=07Pmjxhuo4k</td>\n",
       "      <td>https://www.youtube.com/watch?v=XWVBBPcxoZE</td>\n",
       "      <td>0.12</td>\n",
       "    </tr>\n",
       "    <tr>\n",
       "      <th>9</th>\n",
       "      <td>https://www.youtube.com/watch?v=XWVBBPcxoZE</td>\n",
       "      <td>https://www.youtube.com/watch?v=MHj0dksesho</td>\n",
       "      <td>0.11</td>\n",
       "    </tr>\n",
       "    <tr>\n",
       "      <th>1</th>\n",
       "      <td>https://www.youtube.com/watch?v=07Pmjxhuo4k</td>\n",
       "      <td>https://www.youtube.com/watch?v=MHj0dksesho</td>\n",
       "      <td>0.09</td>\n",
       "    </tr>\n",
       "    <tr>\n",
       "      <th>17</th>\n",
       "      <td>https://www.youtube.com/watch?v=MHj0dksesho</td>\n",
       "      <td>https://www.youtube.com/watch?v=3vzagdNuOCo</td>\n",
       "      <td>0.08</td>\n",
       "    </tr>\n",
       "    <tr>\n",
       "      <th>33</th>\n",
       "      <td>https://www.youtube.com/watch?v=FZJ5w3xHrAc</td>\n",
       "      <td>https://www.youtube.com/watch?v=czrgVVRPzJY</td>\n",
       "      <td>0.00</td>\n",
       "    </tr>\n",
       "    <tr>\n",
       "      <th>26</th>\n",
       "      <td>https://www.youtube.com/watch?v=3vzagdNuOCo</td>\n",
       "      <td>https://www.youtube.com/watch?v=zmWcR-Mj2QQ</td>\n",
       "      <td>0.00</td>\n",
       "    </tr>\n",
       "    <tr>\n",
       "      <th>27</th>\n",
       "      <td>https://www.youtube.com/watch?v=3vzagdNuOCo</td>\n",
       "      <td>https://www.youtube.com/watch?v=jO9h2qez9Wg</td>\n",
       "      <td>0.00</td>\n",
       "    </tr>\n",
       "    <tr>\n",
       "      <th>28</th>\n",
       "      <td>https://www.youtube.com/watch?v=3vzagdNuOCo</td>\n",
       "      <td>https://www.youtube.com/watch?v=czrgVVRPzJY</td>\n",
       "      <td>0.00</td>\n",
       "    </tr>\n",
       "    <tr>\n",
       "      <th>29</th>\n",
       "      <td>https://www.youtube.com/watch?v=3vzagdNuOCo</td>\n",
       "      <td>https://www.youtube.com/watch?v=LmnRH4aWaug</td>\n",
       "      <td>0.00</td>\n",
       "    </tr>\n",
       "  </tbody>\n",
       "</table>\n",
       "</div>"
      ],
      "text/plain": [
       "                                         video1  \\\n",
       "30  https://www.youtube.com/watch?v=FZJ5w3xHrAc   \n",
       "0   https://www.youtube.com/watch?v=07Pmjxhuo4k   \n",
       "9   https://www.youtube.com/watch?v=XWVBBPcxoZE   \n",
       "1   https://www.youtube.com/watch?v=07Pmjxhuo4k   \n",
       "17  https://www.youtube.com/watch?v=MHj0dksesho   \n",
       "33  https://www.youtube.com/watch?v=FZJ5w3xHrAc   \n",
       "26  https://www.youtube.com/watch?v=3vzagdNuOCo   \n",
       "27  https://www.youtube.com/watch?v=3vzagdNuOCo   \n",
       "28  https://www.youtube.com/watch?v=3vzagdNuOCo   \n",
       "29  https://www.youtube.com/watch?v=3vzagdNuOCo   \n",
       "\n",
       "                                         video2  score  \n",
       "30  https://www.youtube.com/watch?v=TDq3-wmihw4   0.33  \n",
       "0   https://www.youtube.com/watch?v=XWVBBPcxoZE   0.12  \n",
       "9   https://www.youtube.com/watch?v=MHj0dksesho   0.11  \n",
       "1   https://www.youtube.com/watch?v=MHj0dksesho   0.09  \n",
       "17  https://www.youtube.com/watch?v=3vzagdNuOCo   0.08  \n",
       "33  https://www.youtube.com/watch?v=czrgVVRPzJY   0.00  \n",
       "26  https://www.youtube.com/watch?v=zmWcR-Mj2QQ   0.00  \n",
       "27  https://www.youtube.com/watch?v=jO9h2qez9Wg   0.00  \n",
       "28  https://www.youtube.com/watch?v=czrgVVRPzJY   0.00  \n",
       "29  https://www.youtube.com/watch?v=LmnRH4aWaug   0.00  "
      ]
     },
     "execution_count": 22,
     "metadata": {},
     "output_type": "execute_result"
    }
   ],
   "source": [
    "df.sort_values('score',ascending=False).head(10)"
   ]
  },
  {
   "cell_type": "code",
   "execution_count": 24,
   "metadata": {},
   "outputs": [],
   "source": [
    "manual_scores = pd.read_csv('manual_scoring.csv')"
   ]
  },
  {
   "cell_type": "code",
   "execution_count": 28,
   "metadata": {},
   "outputs": [
    {
     "data": {
      "text/plain": [
       "True"
      ]
     },
     "execution_count": 28,
     "metadata": {},
     "output_type": "execute_result"
    }
   ],
   "source": [
    "(df['video1']==manual_scores['video1']).all()"
   ]
  },
  {
   "cell_type": "code",
   "execution_count": 29,
   "metadata": {},
   "outputs": [
    {
     "data": {
      "text/plain": [
       "0     0.0\n",
       "1     0.0\n",
       "2     0.0\n",
       "3     0.0\n",
       "4     0.0\n",
       "5     0.0\n",
       "6     0.0\n",
       "7     0.0\n",
       "8     0.0\n",
       "9     0.0\n",
       "10    0.0\n",
       "11    0.0\n",
       "12    0.0\n",
       "13    0.0\n",
       "14    0.0\n",
       "15    0.0\n",
       "16    0.0\n",
       "17    0.0\n",
       "18    0.0\n",
       "19    0.0\n",
       "20    0.0\n",
       "21    0.0\n",
       "22    0.0\n",
       "23    0.0\n",
       "24    0.0\n",
       "25    0.0\n",
       "26    0.0\n",
       "27    0.0\n",
       "28    0.0\n",
       "29    0.0\n",
       "30    0.0\n",
       "31    0.0\n",
       "32    0.0\n",
       "33    0.0\n",
       "34    0.0\n",
       "35    0.0\n",
       "36    0.0\n",
       "37    0.0\n",
       "38    0.0\n",
       "39    0.0\n",
       "40    0.0\n",
       "41    0.0\n",
       "42    0.0\n",
       "43    0.0\n",
       "44    0.0\n",
       "Name: score, dtype: float64"
      ]
     },
     "execution_count": 29,
     "metadata": {},
     "output_type": "execute_result"
    }
   ],
   "source": [
    "import numpy as np\n",
    "np.absolute(df['score'] - manual_scores['score'])"
   ]
  },
  {
   "cell_type": "code",
   "execution_count": null,
   "metadata": {},
   "outputs": [],
   "source": [
    "from sklearn.feature_extraction.text import TfidfVectorizer\n",
    "from sklearn.metrics.pairwise import cosine_similarity\n",
    "import numpy as np\n",
    "\n",
    "# Video summaries\n",
    "summaries = [\n",
    "    \"The text is about a person struggling with self-acceptance and the message to never give up on love.\",\n",
    "    \"Gagan introduces the new TVS Jupiter, discussing changes in the chassis, engine, and features. He also demonstrates the scooter's key functions, screen, and mobile app. The scooter has a smaller fuel tank but increased fuel efficiency. Gagan mentions a separate video for his opinion on the scooter, and encourages viewers to like, share, and subscribe.\",\n",
    "    \"The new Jitter 110 has a bigger seat and handlebar, making it comfortable for taller riders but potentially challenging for shorter ones. The reviewer, who is 5'9, finds it comfortable, while a colleague who is 5'5 struggles with flat footing but has plenty of room. Overall, the reviewer finds the scooter spacious and comfortable.\",\n",
    "    \"The text describes capturing Jupiter's Great Red Spot with a large telescope and the result being accompanied by music.\",\n",
    "    \"Jupiter will be closer to Earth than it has been in 59 years, and the speaker plans to point a dynamic laser at it. It will be slightly brighter than usual, and the speaker thinks it's pretty cool.\",\n",
    "    \"Jupiter's giant red spot, a storm that has been going on for nearly 360 years, is starting to become more circular, indicating that its wind speeds are speeding up. The cause of the storm and its increased speeds is currently unknown, but it has similar properties to a hurricane on Earth, with a cleared out center almost as big as Earth itself.\",\n",
    "    \"Jupiter is the largest planet in our solar system, with a size so big that all other planets could fit inside it. The largest exoplanet, hd100546b, is a gas giant with a mass of 752 Jupiters and a radius of 300,000 miles, located about 358 light years from Earth.\",\n",
    "    \"NASA launched a mission to search for alien life near Jupiter's moon Europa using the $5 billion Europa Clipper probe. The mission aims to detect potential life forms in the moon's deep water ocean using hydrothermal vents for energy. If successful, it will provide the first solid evidence for life from another world.\",\n",
    "    \"The new TVs Jupyter 110 has an all new design with LED daytime running lights, a color LCD instrument cluster, and a 113cc engine with integrated starter generator for more power and better fuel efficiency. It also has a longer seat and 33L of under-seat storage. A first ride report is coming soon.\",\n",
    "    \"The text is a brief and repetitive expression of excitement or enthusiasm for music.\"\n",
    "]\n",
    "\n",
    "# Use TfidfVectorizer to convert the summaries into TF-IDF vectors\n",
    "vectorizer = TfidfVectorizer().fit_transform(summaries)\n",
    "vectors = vectorizer.toarray()\n",
    "\n",
    "# Calculate cosine similarity between each pair of vectors\n",
    "similarity_matrix = cosine_similarity(vectors)\n",
    "\n",
    "# Get the similarity matrix as a list of lists\n",
    "similarity_matrix_rounded = np.round(similarity_matrix, 3)"
   ]
  },
  {
   "cell_type": "code",
   "execution_count": 38,
   "metadata": {},
   "outputs": [],
   "source": [
    "sum_df = pd.read_csv('top_10_summaries.csv',sep=\"|\")"
   ]
  },
  {
   "cell_type": "code",
   "execution_count": 43,
   "metadata": {},
   "outputs": [],
   "source": [
    "tfidf_records = []\n",
    "for i in range(10):\n",
    "    for j in range(i+1,10):\n",
    "        tfidf_records.append({'video1':\"https://www.youtube.com/watch?v=\"+sum_df.doc_id[i],'video2':\"https://www.youtube.com/watch?v=\"+sum_df.doc_id[j],'score':similarity_matrix_rounded[i,j]})"
   ]
  },
  {
   "cell_type": "code",
   "execution_count": 44,
   "metadata": {},
   "outputs": [],
   "source": [
    "tfidf_df = pd.DataFrame(tfidf_records)"
   ]
  },
  {
   "cell_type": "code",
   "execution_count": 45,
   "metadata": {},
   "outputs": [
    {
     "data": {
      "text/html": [
       "<div>\n",
       "<style scoped>\n",
       "    .dataframe tbody tr th:only-of-type {\n",
       "        vertical-align: middle;\n",
       "    }\n",
       "\n",
       "    .dataframe tbody tr th {\n",
       "        vertical-align: top;\n",
       "    }\n",
       "\n",
       "    .dataframe thead th {\n",
       "        text-align: right;\n",
       "    }\n",
       "</style>\n",
       "<table border=\"1\" class=\"dataframe\">\n",
       "  <thead>\n",
       "    <tr style=\"text-align: right;\">\n",
       "      <th></th>\n",
       "      <th>video1</th>\n",
       "      <th>video2</th>\n",
       "      <th>score</th>\n",
       "    </tr>\n",
       "  </thead>\n",
       "  <tbody>\n",
       "    <tr>\n",
       "      <th>15</th>\n",
       "      <td>https://www.youtube.com/watch?v=XWVBBPcxoZE</td>\n",
       "      <td>https://www.youtube.com/watch?v=czrgVVRPzJY</td>\n",
       "      <td>0.197</td>\n",
       "    </tr>\n",
       "    <tr>\n",
       "      <th>22</th>\n",
       "      <td>https://www.youtube.com/watch?v=MHj0dksesho</td>\n",
       "      <td>https://www.youtube.com/watch?v=czrgVVRPzJY</td>\n",
       "      <td>0.188</td>\n",
       "    </tr>\n",
       "    <tr>\n",
       "      <th>9</th>\n",
       "      <td>https://www.youtube.com/watch?v=XWVBBPcxoZE</td>\n",
       "      <td>https://www.youtube.com/watch?v=MHj0dksesho</td>\n",
       "      <td>0.177</td>\n",
       "    </tr>\n",
       "    <tr>\n",
       "      <th>35</th>\n",
       "      <td>https://www.youtube.com/watch?v=TDq3-wmihw4</td>\n",
       "      <td>https://www.youtube.com/watch?v=zmWcR-Mj2QQ</td>\n",
       "      <td>0.175</td>\n",
       "    </tr>\n",
       "    <tr>\n",
       "      <th>29</th>\n",
       "      <td>https://www.youtube.com/watch?v=3vzagdNuOCo</td>\n",
       "      <td>https://www.youtube.com/watch?v=LmnRH4aWaug</td>\n",
       "      <td>0.163</td>\n",
       "    </tr>\n",
       "    <tr>\n",
       "      <th>4</th>\n",
       "      <td>https://www.youtube.com/watch?v=07Pmjxhuo4k</td>\n",
       "      <td>https://www.youtube.com/watch?v=TDq3-wmihw4</td>\n",
       "      <td>0.155</td>\n",
       "    </tr>\n",
       "    <tr>\n",
       "      <th>30</th>\n",
       "      <td>https://www.youtube.com/watch?v=FZJ5w3xHrAc</td>\n",
       "      <td>https://www.youtube.com/watch?v=TDq3-wmihw4</td>\n",
       "      <td>0.146</td>\n",
       "    </tr>\n",
       "    <tr>\n",
       "      <th>8</th>\n",
       "      <td>https://www.youtube.com/watch?v=07Pmjxhuo4k</td>\n",
       "      <td>https://www.youtube.com/watch?v=LmnRH4aWaug</td>\n",
       "      <td>0.126</td>\n",
       "    </tr>\n",
       "    <tr>\n",
       "      <th>19</th>\n",
       "      <td>https://www.youtube.com/watch?v=MHj0dksesho</td>\n",
       "      <td>https://www.youtube.com/watch?v=TDq3-wmihw4</td>\n",
       "      <td>0.124</td>\n",
       "    </tr>\n",
       "    <tr>\n",
       "      <th>2</th>\n",
       "      <td>https://www.youtube.com/watch?v=07Pmjxhuo4k</td>\n",
       "      <td>https://www.youtube.com/watch?v=3vzagdNuOCo</td>\n",
       "      <td>0.123</td>\n",
       "    </tr>\n",
       "  </tbody>\n",
       "</table>\n",
       "</div>"
      ],
      "text/plain": [
       "                                         video1  \\\n",
       "15  https://www.youtube.com/watch?v=XWVBBPcxoZE   \n",
       "22  https://www.youtube.com/watch?v=MHj0dksesho   \n",
       "9   https://www.youtube.com/watch?v=XWVBBPcxoZE   \n",
       "35  https://www.youtube.com/watch?v=TDq3-wmihw4   \n",
       "29  https://www.youtube.com/watch?v=3vzagdNuOCo   \n",
       "4   https://www.youtube.com/watch?v=07Pmjxhuo4k   \n",
       "30  https://www.youtube.com/watch?v=FZJ5w3xHrAc   \n",
       "8   https://www.youtube.com/watch?v=07Pmjxhuo4k   \n",
       "19  https://www.youtube.com/watch?v=MHj0dksesho   \n",
       "2   https://www.youtube.com/watch?v=07Pmjxhuo4k   \n",
       "\n",
       "                                         video2  score  \n",
       "15  https://www.youtube.com/watch?v=czrgVVRPzJY  0.197  \n",
       "22  https://www.youtube.com/watch?v=czrgVVRPzJY  0.188  \n",
       "9   https://www.youtube.com/watch?v=MHj0dksesho  0.177  \n",
       "35  https://www.youtube.com/watch?v=zmWcR-Mj2QQ  0.175  \n",
       "29  https://www.youtube.com/watch?v=LmnRH4aWaug  0.163  \n",
       "4   https://www.youtube.com/watch?v=TDq3-wmihw4  0.155  \n",
       "30  https://www.youtube.com/watch?v=TDq3-wmihw4  0.146  \n",
       "8   https://www.youtube.com/watch?v=LmnRH4aWaug  0.126  \n",
       "19  https://www.youtube.com/watch?v=TDq3-wmihw4  0.124  \n",
       "2   https://www.youtube.com/watch?v=3vzagdNuOCo  0.123  "
      ]
     },
     "execution_count": 45,
     "metadata": {},
     "output_type": "execute_result"
    }
   ],
   "source": [
    "tfidf_df.sort_values('score',ascending=False).head(10)"
   ]
  }
 ],
 "metadata": {
  "kernelspec": {
   "display_name": ".venv",
   "language": "python",
   "name": "python3"
  },
  "language_info": {
   "codemirror_mode": {
    "name": "ipython",
    "version": 3
   },
   "file_extension": ".py",
   "mimetype": "text/x-python",
   "name": "python",
   "nbconvert_exporter": "python",
   "pygments_lexer": "ipython3",
   "version": "3.10.11"
  }
 },
 "nbformat": 4,
 "nbformat_minor": 2
}
