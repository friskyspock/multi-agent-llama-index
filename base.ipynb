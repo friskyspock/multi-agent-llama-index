{
 "cells": [
  {
   "cell_type": "code",
   "execution_count": 13,
   "metadata": {},
   "outputs": [],
   "source": [
    "from llama_index.readers.youtube_transcript import YoutubeTranscriptReader\n",
    "from youtube_transcript_api import YouTubeTranscriptApi\n",
    "from youtube_transcript_api._errors import CouldNotRetrieveTranscript\n",
    "import urllib.request\n",
    "import re\n",
    "import numpy as np\n",
    "from llama_index.embeddings.ollama import OllamaEmbedding\n",
    "from llama_index.llms.ollama import Ollama\n",
    "from llama_index.core.llms import ChatMessage\n",
    "from llama_index.core import VectorStoreIndex, Settings, load_index_from_storage, StorageContext, Document"
   ]
  },
  {
   "cell_type": "code",
   "execution_count": 3,
   "metadata": {},
   "outputs": [],
   "source": [
    "llm = Ollama(\n",
    "    model=\"gemma\", \n",
    "    request_timeout=60.0\n",
    ")\n",
    "\n",
    "embed_model = OllamaEmbedding(\n",
    "    model_name=\"mxbai-embed-large\",\n",
    "    base_url=\"http://localhost:11434\",\n",
    "    ollama_additional_kwargs={\"mirostat\": 0},\n",
    ")\n",
    "\n",
    "Settings.llm = llm\n",
    "Settings.embed_model = embed_model"
   ]
  },
  {
   "cell_type": "code",
   "execution_count": 4,
   "metadata": {},
   "outputs": [],
   "source": [
    "def cosine_similarity(vec1, vec2):\n",
    "    vec1 = np.array(vec1)\n",
    "    vec2 = np.array(vec2)\n",
    "    dot_product = np.dot(vec1, vec2)\n",
    "    norm_vec1 = np.linalg.norm(vec1)\n",
    "    norm_vec2 = np.linalg.norm(vec2)\n",
    "    return dot_product / (norm_vec1 * norm_vec2)"
   ]
  },
  {
   "cell_type": "code",
   "execution_count": 5,
   "metadata": {},
   "outputs": [],
   "source": [
    "def get_youtube_videos(search_keyword: str) -> list:\n",
    "    html = urllib.request.urlopen(\"https://www.youtube.com/results?search_query=\" + search_keyword.replace(' ','+'))\n",
    "    video_ids = re.findall(r\"watch\\?v=(\\S{11})\", html.read().decode())\n",
    "    unique_ids = []\n",
    "    for id in video_ids:\n",
    "        if len(unique_ids) == 10:\n",
    "            break\n",
    "\n",
    "        if id not in unique_ids:\n",
    "            try:\n",
    "                YouTubeTranscriptApi.get_transcript(id)\n",
    "                unique_ids.append(id)\n",
    "            except CouldNotRetrieveTranscript:\n",
    "                pass\n",
    "            \n",
    "    return [\"https://www.youtube.com/watch?v=\"+i for i in unique_ids]"
   ]
  },
  {
   "cell_type": "code",
   "execution_count": 6,
   "metadata": {},
   "outputs": [],
   "source": [
    "def summarize_text(text: str) -> str:\n",
    "    prompt = f\"Summarize the following text in a concise way:\\n\\n{text}\"\n",
    "    \n",
    "    response = llm.chat([\n",
    "        ChatMessage(role=\"user\",content=prompt)\n",
    "    ])\n",
    "    \n",
    "    return response.content"
   ]
  },
  {
   "cell_type": "code",
   "execution_count": 7,
   "metadata": {},
   "outputs": [],
   "source": [
    "top_10_videos = get_youtube_videos(\"samsung galaxy s24 ultra\")\n",
    "loader = YoutubeTranscriptReader()\n",
    "documents = loader.load_data(\n",
    "    ytlinks=top_10_videos\n",
    ")"
   ]
  },
  {
   "cell_type": "code",
   "execution_count": 10,
   "metadata": {},
   "outputs": [],
   "source": [
    "import pandas as pd\n",
    "pd.DataFrame([{'doc_id':doc.doc_id,'text':doc.text} for doc in documents]).to_csv(\"top_10_summaries.csv\",index=False, sep=\"|\")"
   ]
  },
  {
   "cell_type": "code",
   "execution_count": 12,
   "metadata": {},
   "outputs": [],
   "source": [
    "df = pd.read_csv(\"top_10_summaries.csv\",sep=\"|\")"
   ]
  },
  {
   "cell_type": "code",
   "execution_count": 17,
   "metadata": {},
   "outputs": [],
   "source": [
    "new_documents = []\n",
    "for t in df.itertuples():\n",
    "    new_documents.append(\n",
    "        Document(doc_id=t.doc_id,text=t.text,metadata={'video_id':t.doc_id})\n",
    "    )"
   ]
  },
  {
   "cell_type": "code",
   "execution_count": 19,
   "metadata": {},
   "outputs": [],
   "source": [
    "for doc in documents:\n",
    "    doc.embedding = embed_model.get_text_embedding(doc.text)"
   ]
  },
  {
   "cell_type": "code",
   "execution_count": 48,
   "metadata": {},
   "outputs": [],
   "source": [
    "sim_matrix = np.zeros(shape=(10,10))\n",
    "for i in range(len(documents)):\n",
    "    for j in range(i+1,len(documents)):\n",
    "        sim_matrix[i][j] = cosine_similarity(documents[i].embedding,documents[j].embedding)"
   ]
  },
  {
   "cell_type": "code",
   "execution_count": 49,
   "metadata": {},
   "outputs": [
    {
     "data": {
      "text/plain": [
       "array([[0.        , 0.73586613, 0.46613015, 0.46254255, 0.50276201,\n",
       "        0.43542267, 0.44174074, 0.58531675, 0.4279344 , 0.407983  ],\n",
       "       [0.        , 0.        , 0.4860926 , 0.43430609, 0.55194662,\n",
       "        0.42539777, 0.4352589 , 0.61435845, 0.45117613, 0.40781358],\n",
       "       [0.        , 0.        , 0.        , 0.45185586, 0.41174182,\n",
       "        0.50243459, 0.47889434, 0.42675861, 0.44447204, 0.46983459],\n",
       "       [0.        , 0.        , 0.        , 0.        , 0.38851148,\n",
       "        0.7167457 , 0.78844252, 0.40494019, 0.60124663, 0.7353023 ],\n",
       "       [0.        , 0.        , 0.        , 0.        , 0.        ,\n",
       "        0.39361684, 0.4031558 , 0.68485239, 0.38440715, 0.37667721],\n",
       "       [0.        , 0.        , 0.        , 0.        , 0.        ,\n",
       "        0.        , 0.84314474, 0.37441555, 0.56031629, 0.89880822],\n",
       "       [0.        , 0.        , 0.        , 0.        , 0.        ,\n",
       "        0.        , 0.        , 0.41566068, 0.58526229, 0.8912586 ],\n",
       "       [0.        , 0.        , 0.        , 0.        , 0.        ,\n",
       "        0.        , 0.        , 0.        , 0.37749873, 0.37649171],\n",
       "       [0.        , 0.        , 0.        , 0.        , 0.        ,\n",
       "        0.        , 0.        , 0.        , 0.        , 0.548942  ],\n",
       "       [0.        , 0.        , 0.        , 0.        , 0.        ,\n",
       "        0.        , 0.        , 0.        , 0.        , 0.        ]])"
      ]
     },
     "execution_count": 49,
     "metadata": {},
     "output_type": "execute_result"
    }
   ],
   "source": [
    "sim_matrix"
   ]
  },
  {
   "cell_type": "code",
   "execution_count": 50,
   "metadata": {},
   "outputs": [],
   "source": [
    "flat_sim_matrix = sim_matrix.flatten()\n",
    "indices = np.argpartition(flat_sim_matrix, -4)[-4:]\n",
    "indices = np.flip(indices[np.argsort(flat_sim_matrix[indices])])"
   ]
  },
  {
   "cell_type": "code",
   "execution_count": 52,
   "metadata": {},
   "outputs": [],
   "source": [
    "most_similar_pairs = []\n",
    "for idx in indices:\n",
    "    max_idx = np.unravel_index(idx,sim_matrix.shape)\n",
    "    most_similar_pairs.append({\n",
    "        'video1': \"https://www.youtube.com/watch?v=\"+documents[max_idx[0]].doc_id,\n",
    "        'video2': \"https://www.youtube.com/watch?v=\"+documents[max_idx[1]].doc_id,\n",
    "        'similarity': sim_matrix[max_idx[0]][max_idx[1]]\n",
    "    })"
   ]
  },
  {
   "cell_type": "code",
   "execution_count": 53,
   "metadata": {},
   "outputs": [
    {
     "data": {
      "text/plain": [
       "[{'video1': 'https://www.youtube.com/watch?v=KQV7jcBcCvU',\n",
       "  'video2': 'https://www.youtube.com/watch?v=Od9F_9guCrY',\n",
       "  'similarity': 0.8988082210616966},\n",
       " {'video1': 'https://www.youtube.com/watch?v=CcrotrFYWc8',\n",
       "  'video2': 'https://www.youtube.com/watch?v=Od9F_9guCrY',\n",
       "  'similarity': 0.8912586011331761},\n",
       " {'video1': 'https://www.youtube.com/watch?v=KQV7jcBcCvU',\n",
       "  'video2': 'https://www.youtube.com/watch?v=CcrotrFYWc8',\n",
       "  'similarity': 0.8431447377059343},\n",
       " {'video1': 'https://www.youtube.com/watch?v=1Z1xsD3xxIU',\n",
       "  'video2': 'https://www.youtube.com/watch?v=CcrotrFYWc8',\n",
       "  'similarity': 0.7884425226777243}]"
      ]
     },
     "execution_count": 53,
     "metadata": {},
     "output_type": "execute_result"
    }
   ],
   "source": [
    "most_similar_pairs"
   ]
  },
  {
   "cell_type": "code",
   "execution_count": 36,
   "metadata": {},
   "outputs": [
    {
     "data": {
      "text/plain": [
       "(5, 9)"
      ]
     },
     "execution_count": 36,
     "metadata": {},
     "output_type": "execute_result"
    }
   ],
   "source": [
    "np.unravel_index(sim_matrix.argmax(),sim_matrix.shape)"
   ]
  },
  {
   "cell_type": "code",
   "execution_count": 37,
   "metadata": {},
   "outputs": [
    {
     "data": {
      "text/plain": [
       "('KQV7jcBcCvU', 'Od9F_9guCrY')"
      ]
     },
     "execution_count": 37,
     "metadata": {},
     "output_type": "execute_result"
    }
   ],
   "source": [
    "documents[5].doc_id,documents[9].doc_id"
   ]
  },
  {
   "cell_type": "code",
   "execution_count": 38,
   "metadata": {},
   "outputs": [
    {
     "name": "stdout",
     "output_type": "stream",
     "text": [
      "['https://www.youtube.com/watch?v=KQV7jcBcCvU', 'https://www.youtube.com/watch?v=Od9F_9guCrY']\n",
      "0.8988082210616966\n"
     ]
    }
   ],
   "source": [
    "print([\"https://www.youtube.com/watch?v=\"+i for i in most_similar_pair])\n",
    "print(max_sim)"
   ]
  }
 ],
 "metadata": {
  "kernelspec": {
   "display_name": ".venv",
   "language": "python",
   "name": "python3"
  },
  "language_info": {
   "codemirror_mode": {
    "name": "ipython",
    "version": 3
   },
   "file_extension": ".py",
   "mimetype": "text/x-python",
   "name": "python",
   "nbconvert_exporter": "python",
   "pygments_lexer": "ipython3",
   "version": "3.10.11"
  }
 },
 "nbformat": 4,
 "nbformat_minor": 2
}
